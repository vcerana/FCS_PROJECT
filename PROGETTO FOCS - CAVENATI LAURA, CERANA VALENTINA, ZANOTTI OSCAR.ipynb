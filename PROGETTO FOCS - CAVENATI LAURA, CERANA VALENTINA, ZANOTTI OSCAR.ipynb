{
 "cells": [
  {
   "cell_type": "markdown",
   "metadata": {},
   "source": [
    "<img src=\"Immagine1.png\">"
   ]
  },
  {
   "cell_type": "markdown",
   "metadata": {},
   "source": [
    "Vengono importate le librerie necessarie"
   ]
  },
  {
   "cell_type": "code",
   "execution_count": 1,
   "metadata": {
    "executionInfo": {
     "elapsed": 753,
     "status": "ok",
     "timestamp": 1605286295831,
     "user": {
      "displayName": "Laura Cavenati",
      "photoUrl": "",
      "userId": "16185472198034724164"
     },
     "user_tz": -60
    },
    "id": "LqNPbOpXuoXR"
   },
   "outputs": [],
   "source": [
    "import pandas as pd\n",
    "import numpy as np\n",
    "import re\n",
    "import text_unidecode\n",
    "from sklearn.feature_extraction.text import TfidfVectorizer\n",
    "from sklearn.metrics.pairwise import cosine_similarity"
   ]
  },
  {
   "cell_type": "markdown",
   "metadata": {},
   "source": [
    "Vengono importati i dataset dai file in locale.  \n",
    "Nei dataset di partenza i valori nulli sono rappresentati con il carattere '-'. Il carattere per rappresentare le migliaia è la virgola. Tali osservazioni vengono considerate in fase di lettura dei dataset.  \n",
    "La colonna 'institution' del dataset 'cwur' viene rinominata in 'university_name' affinchè ci sia conformità con gli altri dataset."
   ]
  },
  {
   "cell_type": "code",
   "execution_count": 2,
   "metadata": {
    "id": "0UZhF7nIrCjL"
   },
   "outputs": [],
   "source": [
    "cwur = pd.read_csv(\"cwurData.csv\", na_values='-', thousands=',')\n",
    "times = pd.read_csv(\"timesData.csv\", na_values='-', thousands=',')\n",
    "shanghai = pd.read_csv(\"shanghaiData.csv\", na_values='-', thousands=',')\n",
    "\n",
    "cwur.rename(columns={'institution':'university_name'}, inplace=True)"
   ]
  },
  {
   "cell_type": "markdown",
   "metadata": {},
   "source": [
    "Esplorazione dei dataset.  \n",
    "Per ciascun dataset si verifica la presenza di valori nulli per la variabile 'university_name'."
   ]
  },
  {
   "cell_type": "code",
   "execution_count": 3,
   "metadata": {},
   "outputs": [
    {
     "data": {
      "text/html": [
       "<div>\n",
       "<style scoped>\n",
       "    .dataframe tbody tr th:only-of-type {\n",
       "        vertical-align: middle;\n",
       "    }\n",
       "\n",
       "    .dataframe tbody tr th {\n",
       "        vertical-align: top;\n",
       "    }\n",
       "\n",
       "    .dataframe thead th {\n",
       "        text-align: right;\n",
       "    }\n",
       "</style>\n",
       "<table border=\"1\" class=\"dataframe\">\n",
       "  <thead>\n",
       "    <tr style=\"text-align: right;\">\n",
       "      <th></th>\n",
       "      <th>world_rank</th>\n",
       "      <th>university_name</th>\n",
       "      <th>country</th>\n",
       "      <th>teaching</th>\n",
       "      <th>international</th>\n",
       "      <th>research</th>\n",
       "      <th>citations</th>\n",
       "      <th>income</th>\n",
       "      <th>total_score</th>\n",
       "      <th>num_students</th>\n",
       "      <th>student_staff_ratio</th>\n",
       "      <th>international_students</th>\n",
       "      <th>female_male_ratio</th>\n",
       "      <th>year</th>\n",
       "    </tr>\n",
       "  </thead>\n",
       "  <tbody>\n",
       "    <tr>\n",
       "      <th>0</th>\n",
       "      <td>1</td>\n",
       "      <td>Harvard University</td>\n",
       "      <td>United States of America</td>\n",
       "      <td>99.7</td>\n",
       "      <td>72.4</td>\n",
       "      <td>98.7</td>\n",
       "      <td>98.8</td>\n",
       "      <td>34.5</td>\n",
       "      <td>96.1</td>\n",
       "      <td>20152.0</td>\n",
       "      <td>8.9</td>\n",
       "      <td>25%</td>\n",
       "      <td>NaN</td>\n",
       "      <td>2011</td>\n",
       "    </tr>\n",
       "    <tr>\n",
       "      <th>1</th>\n",
       "      <td>2</td>\n",
       "      <td>California Institute of Technology</td>\n",
       "      <td>United States of America</td>\n",
       "      <td>97.7</td>\n",
       "      <td>54.6</td>\n",
       "      <td>98.0</td>\n",
       "      <td>99.9</td>\n",
       "      <td>83.7</td>\n",
       "      <td>96.0</td>\n",
       "      <td>2243.0</td>\n",
       "      <td>6.9</td>\n",
       "      <td>27%</td>\n",
       "      <td>33 : 67</td>\n",
       "      <td>2011</td>\n",
       "    </tr>\n",
       "  </tbody>\n",
       "</table>\n",
       "</div>"
      ],
      "text/plain": [
       "  world_rank                     university_name                   country  \\\n",
       "0          1                  Harvard University  United States of America   \n",
       "1          2  California Institute of Technology  United States of America   \n",
       "\n",
       "   teaching  international  research  citations  income  total_score  \\\n",
       "0      99.7           72.4      98.7       98.8    34.5         96.1   \n",
       "1      97.7           54.6      98.0       99.9    83.7         96.0   \n",
       "\n",
       "   num_students  student_staff_ratio international_students female_male_ratio  \\\n",
       "0       20152.0                  8.9                    25%               NaN   \n",
       "1        2243.0                  6.9                    27%           33 : 67   \n",
       "\n",
       "   year  \n",
       "0  2011  \n",
       "1  2011  "
      ]
     },
     "execution_count": 3,
     "metadata": {},
     "output_type": "execute_result"
    }
   ],
   "source": [
    "times.head(2)"
   ]
  },
  {
   "cell_type": "code",
   "execution_count": 4,
   "metadata": {},
   "outputs": [
    {
     "data": {
      "text/html": [
       "<div>\n",
       "<style scoped>\n",
       "    .dataframe tbody tr th:only-of-type {\n",
       "        vertical-align: middle;\n",
       "    }\n",
       "\n",
       "    .dataframe tbody tr th {\n",
       "        vertical-align: top;\n",
       "    }\n",
       "\n",
       "    .dataframe thead th {\n",
       "        text-align: right;\n",
       "    }\n",
       "</style>\n",
       "<table border=\"1\" class=\"dataframe\">\n",
       "  <thead>\n",
       "    <tr style=\"text-align: right;\">\n",
       "      <th></th>\n",
       "      <th>world_rank</th>\n",
       "      <th>university_name</th>\n",
       "      <th>country</th>\n",
       "      <th>teaching</th>\n",
       "      <th>international</th>\n",
       "      <th>research</th>\n",
       "      <th>citations</th>\n",
       "      <th>income</th>\n",
       "      <th>total_score</th>\n",
       "      <th>num_students</th>\n",
       "      <th>student_staff_ratio</th>\n",
       "      <th>international_students</th>\n",
       "      <th>female_male_ratio</th>\n",
       "      <th>year</th>\n",
       "    </tr>\n",
       "  </thead>\n",
       "  <tbody>\n",
       "  </tbody>\n",
       "</table>\n",
       "</div>"
      ],
      "text/plain": [
       "Empty DataFrame\n",
       "Columns: [world_rank, university_name, country, teaching, international, research, citations, income, total_score, num_students, student_staff_ratio, international_students, female_male_ratio, year]\n",
       "Index: []"
      ]
     },
     "execution_count": 4,
     "metadata": {},
     "output_type": "execute_result"
    }
   ],
   "source": [
    "times[times['university_name'].isnull()==True]"
   ]
  },
  {
   "cell_type": "code",
   "execution_count": 5,
   "metadata": {},
   "outputs": [
    {
     "data": {
      "text/html": [
       "<div>\n",
       "<style scoped>\n",
       "    .dataframe tbody tr th:only-of-type {\n",
       "        vertical-align: middle;\n",
       "    }\n",
       "\n",
       "    .dataframe tbody tr th {\n",
       "        vertical-align: top;\n",
       "    }\n",
       "\n",
       "    .dataframe thead th {\n",
       "        text-align: right;\n",
       "    }\n",
       "</style>\n",
       "<table border=\"1\" class=\"dataframe\">\n",
       "  <thead>\n",
       "    <tr style=\"text-align: right;\">\n",
       "      <th></th>\n",
       "      <th>world_rank</th>\n",
       "      <th>university_name</th>\n",
       "      <th>national_rank</th>\n",
       "      <th>total_score</th>\n",
       "      <th>alumni</th>\n",
       "      <th>award</th>\n",
       "      <th>hici</th>\n",
       "      <th>ns</th>\n",
       "      <th>pub</th>\n",
       "      <th>pcp</th>\n",
       "      <th>year</th>\n",
       "    </tr>\n",
       "  </thead>\n",
       "  <tbody>\n",
       "    <tr>\n",
       "      <th>0</th>\n",
       "      <td>1</td>\n",
       "      <td>Harvard University</td>\n",
       "      <td>1</td>\n",
       "      <td>100.0</td>\n",
       "      <td>100.0</td>\n",
       "      <td>100.0</td>\n",
       "      <td>100.0</td>\n",
       "      <td>100.0</td>\n",
       "      <td>100.0</td>\n",
       "      <td>72.4</td>\n",
       "      <td>2005</td>\n",
       "    </tr>\n",
       "    <tr>\n",
       "      <th>1</th>\n",
       "      <td>2</td>\n",
       "      <td>University of Cambridge</td>\n",
       "      <td>1</td>\n",
       "      <td>73.6</td>\n",
       "      <td>99.8</td>\n",
       "      <td>93.4</td>\n",
       "      <td>53.3</td>\n",
       "      <td>56.6</td>\n",
       "      <td>70.9</td>\n",
       "      <td>66.9</td>\n",
       "      <td>2005</td>\n",
       "    </tr>\n",
       "  </tbody>\n",
       "</table>\n",
       "</div>"
      ],
      "text/plain": [
       "  world_rank          university_name national_rank  total_score  alumni  \\\n",
       "0          1       Harvard University             1        100.0   100.0   \n",
       "1          2  University of Cambridge             1         73.6    99.8   \n",
       "\n",
       "   award   hici     ns    pub   pcp  year  \n",
       "0  100.0  100.0  100.0  100.0  72.4  2005  \n",
       "1   93.4   53.3   56.6   70.9  66.9  2005  "
      ]
     },
     "execution_count": 5,
     "metadata": {},
     "output_type": "execute_result"
    }
   ],
   "source": [
    "shanghai.head(2)"
   ]
  },
  {
   "cell_type": "code",
   "execution_count": 6,
   "metadata": {},
   "outputs": [
    {
     "data": {
      "text/html": [
       "<div>\n",
       "<style scoped>\n",
       "    .dataframe tbody tr th:only-of-type {\n",
       "        vertical-align: middle;\n",
       "    }\n",
       "\n",
       "    .dataframe tbody tr th {\n",
       "        vertical-align: top;\n",
       "    }\n",
       "\n",
       "    .dataframe thead th {\n",
       "        text-align: right;\n",
       "    }\n",
       "</style>\n",
       "<table border=\"1\" class=\"dataframe\">\n",
       "  <thead>\n",
       "    <tr style=\"text-align: right;\">\n",
       "      <th></th>\n",
       "      <th>world_rank</th>\n",
       "      <th>university_name</th>\n",
       "      <th>national_rank</th>\n",
       "      <th>total_score</th>\n",
       "      <th>alumni</th>\n",
       "      <th>award</th>\n",
       "      <th>hici</th>\n",
       "      <th>ns</th>\n",
       "      <th>pub</th>\n",
       "      <th>pcp</th>\n",
       "      <th>year</th>\n",
       "    </tr>\n",
       "  </thead>\n",
       "  <tbody>\n",
       "    <tr>\n",
       "      <th>3896</th>\n",
       "      <td>99</td>\n",
       "      <td>NaN</td>\n",
       "      <td>NaN</td>\n",
       "      <td>NaN</td>\n",
       "      <td>NaN</td>\n",
       "      <td>NaN</td>\n",
       "      <td>NaN</td>\n",
       "      <td>NaN</td>\n",
       "      <td>NaN</td>\n",
       "      <td>NaN</td>\n",
       "      <td>2013</td>\n",
       "    </tr>\n",
       "  </tbody>\n",
       "</table>\n",
       "</div>"
      ],
      "text/plain": [
       "     world_rank university_name national_rank  total_score  alumni  award  \\\n",
       "3896         99             NaN           NaN          NaN     NaN    NaN   \n",
       "\n",
       "      hici  ns  pub  pcp  year  \n",
       "3896   NaN NaN  NaN  NaN  2013  "
      ]
     },
     "execution_count": 6,
     "metadata": {},
     "output_type": "execute_result"
    }
   ],
   "source": [
    "shanghai[shanghai['university_name'].isnull()==True]"
   ]
  },
  {
   "cell_type": "code",
   "execution_count": 7,
   "metadata": {},
   "outputs": [
    {
     "data": {
      "text/html": [
       "<div>\n",
       "<style scoped>\n",
       "    .dataframe tbody tr th:only-of-type {\n",
       "        vertical-align: middle;\n",
       "    }\n",
       "\n",
       "    .dataframe tbody tr th {\n",
       "        vertical-align: top;\n",
       "    }\n",
       "\n",
       "    .dataframe thead th {\n",
       "        text-align: right;\n",
       "    }\n",
       "</style>\n",
       "<table border=\"1\" class=\"dataframe\">\n",
       "  <thead>\n",
       "    <tr style=\"text-align: right;\">\n",
       "      <th></th>\n",
       "      <th>world_rank</th>\n",
       "      <th>university_name</th>\n",
       "      <th>country</th>\n",
       "      <th>national_rank</th>\n",
       "      <th>quality_of_education</th>\n",
       "      <th>alumni_employment</th>\n",
       "      <th>quality_of_faculty</th>\n",
       "      <th>publications</th>\n",
       "      <th>influence</th>\n",
       "      <th>citations</th>\n",
       "      <th>broad_impact</th>\n",
       "      <th>patents</th>\n",
       "      <th>score</th>\n",
       "      <th>year</th>\n",
       "    </tr>\n",
       "  </thead>\n",
       "  <tbody>\n",
       "    <tr>\n",
       "      <th>0</th>\n",
       "      <td>1</td>\n",
       "      <td>Harvard University</td>\n",
       "      <td>USA</td>\n",
       "      <td>1</td>\n",
       "      <td>7</td>\n",
       "      <td>9</td>\n",
       "      <td>1</td>\n",
       "      <td>1</td>\n",
       "      <td>1</td>\n",
       "      <td>1</td>\n",
       "      <td>NaN</td>\n",
       "      <td>5</td>\n",
       "      <td>100.00</td>\n",
       "      <td>2012</td>\n",
       "    </tr>\n",
       "    <tr>\n",
       "      <th>1</th>\n",
       "      <td>2</td>\n",
       "      <td>Massachusetts Institute of Technology</td>\n",
       "      <td>USA</td>\n",
       "      <td>2</td>\n",
       "      <td>9</td>\n",
       "      <td>17</td>\n",
       "      <td>3</td>\n",
       "      <td>12</td>\n",
       "      <td>4</td>\n",
       "      <td>4</td>\n",
       "      <td>NaN</td>\n",
       "      <td>1</td>\n",
       "      <td>91.67</td>\n",
       "      <td>2012</td>\n",
       "    </tr>\n",
       "  </tbody>\n",
       "</table>\n",
       "</div>"
      ],
      "text/plain": [
       "   world_rank                        university_name country  national_rank  \\\n",
       "0           1                     Harvard University     USA              1   \n",
       "1           2  Massachusetts Institute of Technology     USA              2   \n",
       "\n",
       "   quality_of_education  alumni_employment  quality_of_faculty  publications  \\\n",
       "0                     7                  9                   1             1   \n",
       "1                     9                 17                   3            12   \n",
       "\n",
       "   influence  citations  broad_impact  patents   score  year  \n",
       "0          1          1           NaN        5  100.00  2012  \n",
       "1          4          4           NaN        1   91.67  2012  "
      ]
     },
     "execution_count": 7,
     "metadata": {},
     "output_type": "execute_result"
    }
   ],
   "source": [
    "cwur.head(2)"
   ]
  },
  {
   "cell_type": "code",
   "execution_count": 8,
   "metadata": {},
   "outputs": [
    {
     "data": {
      "text/html": [
       "<div>\n",
       "<style scoped>\n",
       "    .dataframe tbody tr th:only-of-type {\n",
       "        vertical-align: middle;\n",
       "    }\n",
       "\n",
       "    .dataframe tbody tr th {\n",
       "        vertical-align: top;\n",
       "    }\n",
       "\n",
       "    .dataframe thead th {\n",
       "        text-align: right;\n",
       "    }\n",
       "</style>\n",
       "<table border=\"1\" class=\"dataframe\">\n",
       "  <thead>\n",
       "    <tr style=\"text-align: right;\">\n",
       "      <th></th>\n",
       "      <th>world_rank</th>\n",
       "      <th>university_name</th>\n",
       "      <th>country</th>\n",
       "      <th>national_rank</th>\n",
       "      <th>quality_of_education</th>\n",
       "      <th>alumni_employment</th>\n",
       "      <th>quality_of_faculty</th>\n",
       "      <th>publications</th>\n",
       "      <th>influence</th>\n",
       "      <th>citations</th>\n",
       "      <th>broad_impact</th>\n",
       "      <th>patents</th>\n",
       "      <th>score</th>\n",
       "      <th>year</th>\n",
       "    </tr>\n",
       "  </thead>\n",
       "  <tbody>\n",
       "  </tbody>\n",
       "</table>\n",
       "</div>"
      ],
      "text/plain": [
       "Empty DataFrame\n",
       "Columns: [world_rank, university_name, country, national_rank, quality_of_education, alumni_employment, quality_of_faculty, publications, influence, citations, broad_impact, patents, score, year]\n",
       "Index: []"
      ]
     },
     "execution_count": 8,
     "metadata": {},
     "output_type": "execute_result"
    }
   ],
   "source": [
    "cwur[cwur['university_name'].isnull()==True]"
   ]
  },
  {
   "cell_type": "markdown",
   "metadata": {},
   "source": [
    "Solo il dataset 'shanghai' contiene un valore nullo per la variabile 'university_name'. Viene eliminata tale riga in quanto non è ritenuta significativa."
   ]
  },
  {
   "cell_type": "code",
   "execution_count": 9,
   "metadata": {},
   "outputs": [],
   "source": [
    "shanghai.dropna(subset=['university_name'], inplace=True)"
   ]
  },
  {
   "cell_type": "markdown",
   "metadata": {},
   "source": [
    "# Valutazione similarità tra i nomi delle università nei tre dataset"
   ]
  },
  {
   "cell_type": "markdown",
   "metadata": {},
   "source": [
    "Vengono trasformati tutti i caratteri accentati nella loro controparte non accentata (text_unidecode.unidecode), rimossi i caratteri speciali, gli spazi ripetuti, gli spazi all'inizio o alla fine del nome delle univeristà (strip) e si trasformano tutti i caratteri maiuscoli in  minuscoli (lower)."
   ]
  },
  {
   "cell_type": "code",
   "execution_count": 10,
   "metadata": {},
   "outputs": [],
   "source": [
    "cwur['university_name']=cwur['university_name'].apply(text_unidecode.unidecode).str.replace('[^A-Za-z]', ' ').str.replace('   ', ' ').str.replace('  ', ' ').str.lower().str.strip()\n",
    "times['university_name']=times['university_name'].apply(text_unidecode.unidecode).str.replace('[^A-Za-z]', ' ').str.replace('   ', ' ').str.replace('  ', ' ').str.lower().str.strip()\n",
    "shanghai['university_name']=shanghai['university_name'].apply(text_unidecode.unidecode).str.replace('[^A-Za-z]', ' ').str.replace('   ', ' ').str.replace('  ', ' ').str.lower().str.strip()"
   ]
  },
  {
   "cell_type": "markdown",
   "metadata": {},
   "source": [
    "Viene creato un dataframe con tutti i nomi delle università contenute nei tre diversi ranking."
   ]
  },
  {
   "cell_type": "code",
   "execution_count": 11,
   "metadata": {},
   "outputs": [],
   "source": [
    "total = pd.concat([pd.DataFrame(times['university_name']),\n",
    "                 pd.DataFrame(shanghai['university_name']),\n",
    "                 pd.DataFrame(cwur['university_name'])])"
   ]
  },
  {
   "cell_type": "markdown",
   "metadata": {},
   "source": [
    "Viene creato un array con tutti i nomi, senza ripetizioni, delle università contenute nei tre diversi ranking."
   ]
  },
  {
   "cell_type": "code",
   "execution_count": 12,
   "metadata": {
    "scrolled": true
   },
   "outputs": [
    {
     "data": {
      "text/plain": [
       "array(['harvard university', 'california institute of technology',\n",
       "       'massachusetts institute of technology', ...,\n",
       "       'tianjin medical university', 'henan normal university',\n",
       "       'southwest jiaotong university'], dtype=object)"
      ]
     },
     "execution_count": 12,
     "metadata": {},
     "output_type": "execute_result"
    }
   ],
   "source": [
    "total=total['university_name'].unique()\n",
    "total"
   ]
  },
  {
   "cell_type": "code",
   "execution_count": 13,
   "metadata": {},
   "outputs": [
    {
     "data": {
      "text/plain": [
       "(1389,)"
      ]
     },
     "execution_count": 13,
     "metadata": {},
     "output_type": "execute_result"
    }
   ],
   "source": [
    "total.shape"
   ]
  },
  {
   "cell_type": "markdown",
   "metadata": {},
   "source": [
    "Viene costruita la matrice doc-term e calcolata la similarità tra i nomi delle università."
   ]
  },
  {
   "cell_type": "code",
   "execution_count": 14,
   "metadata": {},
   "outputs": [],
   "source": [
    "tfidf_vectorizer = TfidfVectorizer()\n",
    "sparse_matrix = tfidf_vectorizer.fit_transform(total)\n",
    "doc_term_matrix = sparse_matrix.toarray()\n",
    "\n",
    "cosine_sim = cosine_similarity(doc_term_matrix)"
   ]
  },
  {
   "cell_type": "markdown",
   "metadata": {},
   "source": [
    "Si creano due liste vuote che verrano riempite con gli indici delle università"
   ]
  },
  {
   "cell_type": "code",
   "execution_count": 15,
   "metadata": {},
   "outputs": [],
   "source": [
    "riga=[]\n",
    "colonna=[]"
   ]
  },
  {
   "cell_type": "markdown",
   "metadata": {},
   "source": [
    "Attraverso il seguente ciclo si compara per ogni università il grado di similarità. Vengono considerate stesse università quelle che hanno una similarità elevata (>0.85)."
   ]
  },
  {
   "cell_type": "code",
   "execution_count": 16,
   "metadata": {},
   "outputs": [],
   "source": [
    "for i in range(1, cosine_sim.shape[0]):\n",
    "    for j in range(0, i-1):\n",
    "        if cosine_sim[i, j]>0.85:\n",
    "            riga.append(i)\n",
    "            colonna.append(j)"
   ]
  },
  {
   "cell_type": "code",
   "execution_count": 17,
   "metadata": {},
   "outputs": [],
   "source": [
    "similarity = pd.DataFrame({\"uni1\": total[riga], \"uni2\": total[colonna], \"cosine_sim\":cosine_sim[riga, colonna]}).sort_values('cosine_sim', ascending=False)"
   ]
  },
  {
   "cell_type": "code",
   "execution_count": 18,
   "metadata": {},
   "outputs": [
    {
     "data": {
      "text/html": [
       "<div>\n",
       "<style scoped>\n",
       "    .dataframe tbody tr th:only-of-type {\n",
       "        vertical-align: middle;\n",
       "    }\n",
       "\n",
       "    .dataframe tbody tr th {\n",
       "        vertical-align: top;\n",
       "    }\n",
       "\n",
       "    .dataframe thead th {\n",
       "        text-align: right;\n",
       "    }\n",
       "</style>\n",
       "<table border=\"1\" class=\"dataframe\">\n",
       "  <thead>\n",
       "    <tr style=\"text-align: right;\">\n",
       "      <th></th>\n",
       "      <th>uni1</th>\n",
       "      <th>uni2</th>\n",
       "      <th>cosine_sim</th>\n",
       "    </tr>\n",
       "  </thead>\n",
       "  <tbody>\n",
       "    <tr>\n",
       "      <th>122</th>\n",
       "      <td>unesp sao paulo state university</td>\n",
       "      <td>sao paulo state university unesp</td>\n",
       "      <td>1.000000</td>\n",
       "    </tr>\n",
       "    <tr>\n",
       "      <th>78</th>\n",
       "      <td>university paris diderot paris</td>\n",
       "      <td>paris diderot university paris</td>\n",
       "      <td>1.000000</td>\n",
       "    </tr>\n",
       "    <tr>\n",
       "      <th>112</th>\n",
       "      <td>university of bordeaux i</td>\n",
       "      <td>university of bordeaux</td>\n",
       "      <td>1.000000</td>\n",
       "    </tr>\n",
       "    <tr>\n",
       "      <th>89</th>\n",
       "      <td>university at albany state university of new york</td>\n",
       "      <td>state university of new york at albany</td>\n",
       "      <td>0.995529</td>\n",
       "    </tr>\n",
       "    <tr>\n",
       "      <th>55</th>\n",
       "      <td>royal holloway u of london</td>\n",
       "      <td>royal holloway university of london</td>\n",
       "      <td>0.994954</td>\n",
       "    </tr>\n",
       "    <tr>\n",
       "      <th>...</th>\n",
       "      <td>...</td>\n",
       "      <td>...</td>\n",
       "      <td>...</td>\n",
       "    </tr>\n",
       "    <tr>\n",
       "      <th>64</th>\n",
       "      <td>medical university of graz</td>\n",
       "      <td>university of graz</td>\n",
       "      <td>0.853437</td>\n",
       "    </tr>\n",
       "    <tr>\n",
       "      <th>6</th>\n",
       "      <td>university of kent</td>\n",
       "      <td>kent state university</td>\n",
       "      <td>0.851567</td>\n",
       "    </tr>\n",
       "    <tr>\n",
       "      <th>0</th>\n",
       "      <td>iowa state university</td>\n",
       "      <td>university of iowa</td>\n",
       "      <td>0.851567</td>\n",
       "    </tr>\n",
       "    <tr>\n",
       "      <th>63</th>\n",
       "      <td>utah state university</td>\n",
       "      <td>university of utah</td>\n",
       "      <td>0.851567</td>\n",
       "    </tr>\n",
       "    <tr>\n",
       "      <th>135</th>\n",
       "      <td>beijing university of technology</td>\n",
       "      <td>beijing institute of technology</td>\n",
       "      <td>0.850664</td>\n",
       "    </tr>\n",
       "  </tbody>\n",
       "</table>\n",
       "<p>137 rows × 3 columns</p>\n",
       "</div>"
      ],
      "text/plain": [
       "                                                  uni1  \\\n",
       "122                   unesp sao paulo state university   \n",
       "78                      university paris diderot paris   \n",
       "112                           university of bordeaux i   \n",
       "89   university at albany state university of new york   \n",
       "55                          royal holloway u of london   \n",
       "..                                                 ...   \n",
       "64                          medical university of graz   \n",
       "6                                   university of kent   \n",
       "0                                iowa state university   \n",
       "63                               utah state university   \n",
       "135                   beijing university of technology   \n",
       "\n",
       "                                       uni2  cosine_sim  \n",
       "122        sao paulo state university unesp    1.000000  \n",
       "78           paris diderot university paris    1.000000  \n",
       "112                  university of bordeaux    1.000000  \n",
       "89   state university of new york at albany    0.995529  \n",
       "55      royal holloway university of london    0.994954  \n",
       "..                                      ...         ...  \n",
       "64                       university of graz    0.853437  \n",
       "6                     kent state university    0.851567  \n",
       "0                        university of iowa    0.851567  \n",
       "63                       university of utah    0.851567  \n",
       "135         beijing institute of technology    0.850664  \n",
       "\n",
       "[137 rows x 3 columns]"
      ]
     },
     "execution_count": 18,
     "metadata": {},
     "output_type": "execute_result"
    }
   ],
   "source": [
    "similarity"
   ]
  },
  {
   "cell_type": "markdown",
   "metadata": {},
   "source": [
    "Viene costruito un dizionario che contiene i risultati contenuti nel dataframe mostrato al punto precedente"
   ]
  },
  {
   "cell_type": "code",
   "execution_count": 19,
   "metadata": {},
   "outputs": [],
   "source": [
    "univ_sim_dict=dict(zip(similarity.uni1, similarity.uni2))"
   ]
  },
  {
   "cell_type": "markdown",
   "metadata": {},
   "source": [
    "Replacement dei nomi delle università contenuti nei tre dataset dei ranking con quelli che trovano un match nel dizionario costruito al punto precedente. Se non esiste alcun match, allora non viene modificato il nome dell'univeristà"
   ]
  },
  {
   "cell_type": "code",
   "execution_count": 20,
   "metadata": {},
   "outputs": [],
   "source": [
    "times[\"university_name\"].replace(univ_sim_dict, inplace=True)\n",
    "shanghai[\"university_name\"].replace(univ_sim_dict, inplace=True)\n",
    "cwur[\"university_name\"].replace(univ_sim_dict, inplace=True)"
   ]
  },
  {
   "cell_type": "markdown",
   "metadata": {
    "id": "ihW6T0PCxXpP"
   },
   "source": [
    "## 1. For each university, extract from the times dataset the most recent and the least recent data, obtaining two separate dataframes"
   ]
  },
  {
   "cell_type": "code",
   "execution_count": 21,
   "metadata": {},
   "outputs": [
    {
     "data": {
      "text/plain": [
       "count    2603.000000\n",
       "mean     2014.075682\n",
       "std         1.685733\n",
       "min      2011.000000\n",
       "25%      2013.000000\n",
       "50%      2014.000000\n",
       "75%      2016.000000\n",
       "max      2016.000000\n",
       "Name: year, dtype: float64"
      ]
     },
     "execution_count": 21,
     "metadata": {},
     "output_type": "execute_result"
    }
   ],
   "source": [
    "times.year.describe()"
   ]
  },
  {
   "cell_type": "markdown",
   "metadata": {},
   "source": [
    "Vengono considerati i dati relativi all'anno più recente per ogni università del dataset 'times'."
   ]
  },
  {
   "cell_type": "code",
   "execution_count": 22,
   "metadata": {
    "id": "qOlK2rRe09Bn"
   },
   "outputs": [],
   "source": [
    "times_most_recent=times.loc[times.groupby('university_name')['year'].idxmax()]"
   ]
  },
  {
   "cell_type": "code",
   "execution_count": 23,
   "metadata": {},
   "outputs": [
    {
     "data": {
      "text/html": [
       "<div>\n",
       "<style scoped>\n",
       "    .dataframe tbody tr th:only-of-type {\n",
       "        vertical-align: middle;\n",
       "    }\n",
       "\n",
       "    .dataframe tbody tr th {\n",
       "        vertical-align: top;\n",
       "    }\n",
       "\n",
       "    .dataframe thead th {\n",
       "        text-align: right;\n",
       "    }\n",
       "</style>\n",
       "<table border=\"1\" class=\"dataframe\">\n",
       "  <thead>\n",
       "    <tr style=\"text-align: right;\">\n",
       "      <th></th>\n",
       "      <th>world_rank</th>\n",
       "      <th>university_name</th>\n",
       "      <th>country</th>\n",
       "      <th>teaching</th>\n",
       "      <th>international</th>\n",
       "      <th>research</th>\n",
       "      <th>citations</th>\n",
       "      <th>income</th>\n",
       "      <th>total_score</th>\n",
       "      <th>num_students</th>\n",
       "      <th>student_staff_ratio</th>\n",
       "      <th>international_students</th>\n",
       "      <th>female_male_ratio</th>\n",
       "      <th>year</th>\n",
       "    </tr>\n",
       "  </thead>\n",
       "  <tbody>\n",
       "    <tr>\n",
       "      <th>2003</th>\n",
       "      <td>201-250</td>\n",
       "      <td>aalborg university</td>\n",
       "      <td>Denmark</td>\n",
       "      <td>25.1</td>\n",
       "      <td>71.0</td>\n",
       "      <td>28.4</td>\n",
       "      <td>73.8</td>\n",
       "      <td>43.7</td>\n",
       "      <td>NaN</td>\n",
       "      <td>17422.0</td>\n",
       "      <td>15.9</td>\n",
       "      <td>15%</td>\n",
       "      <td>48 : 52</td>\n",
       "      <td>2016</td>\n",
       "    </tr>\n",
       "    <tr>\n",
       "      <th>2056</th>\n",
       "      <td>251-300</td>\n",
       "      <td>aalto university</td>\n",
       "      <td>Finland</td>\n",
       "      <td>31.1</td>\n",
       "      <td>65.4</td>\n",
       "      <td>32.8</td>\n",
       "      <td>62.1</td>\n",
       "      <td>61.6</td>\n",
       "      <td>NaN</td>\n",
       "      <td>16099.0</td>\n",
       "      <td>24.2</td>\n",
       "      <td>17%</td>\n",
       "      <td>32 : 68</td>\n",
       "      <td>2016</td>\n",
       "    </tr>\n",
       "    <tr>\n",
       "      <th>1908</th>\n",
       "      <td>=106</td>\n",
       "      <td>aarhus university</td>\n",
       "      <td>Denmark</td>\n",
       "      <td>36.9</td>\n",
       "      <td>76.8</td>\n",
       "      <td>50.7</td>\n",
       "      <td>79.8</td>\n",
       "      <td>68.3</td>\n",
       "      <td>57.7</td>\n",
       "      <td>23895.0</td>\n",
       "      <td>13.6</td>\n",
       "      <td>14%</td>\n",
       "      <td>54 : 46</td>\n",
       "      <td>2016</td>\n",
       "    </tr>\n",
       "    <tr>\n",
       "      <th>2105</th>\n",
       "      <td>301-350</td>\n",
       "      <td>aberystwyth university</td>\n",
       "      <td>United Kingdom</td>\n",
       "      <td>21.6</td>\n",
       "      <td>72.2</td>\n",
       "      <td>18.9</td>\n",
       "      <td>67.2</td>\n",
       "      <td>31.3</td>\n",
       "      <td>NaN</td>\n",
       "      <td>9252.0</td>\n",
       "      <td>19.2</td>\n",
       "      <td>18%</td>\n",
       "      <td>48 : 52</td>\n",
       "      <td>2016</td>\n",
       "    </tr>\n",
       "    <tr>\n",
       "      <th>2404</th>\n",
       "      <td>601-800</td>\n",
       "      <td>adam mickiewicz university</td>\n",
       "      <td>Poland</td>\n",
       "      <td>20.0</td>\n",
       "      <td>25.7</td>\n",
       "      <td>11.0</td>\n",
       "      <td>15.3</td>\n",
       "      <td>28.7</td>\n",
       "      <td>NaN</td>\n",
       "      <td>40633.0</td>\n",
       "      <td>15.6</td>\n",
       "      <td>1%</td>\n",
       "      <td>71 : 29</td>\n",
       "      <td>2016</td>\n",
       "    </tr>\n",
       "  </tbody>\n",
       "</table>\n",
       "</div>"
      ],
      "text/plain": [
       "     world_rank             university_name         country  teaching  \\\n",
       "2003    201-250          aalborg university         Denmark      25.1   \n",
       "2056    251-300            aalto university         Finland      31.1   \n",
       "1908       =106           aarhus university         Denmark      36.9   \n",
       "2105    301-350      aberystwyth university  United Kingdom      21.6   \n",
       "2404    601-800  adam mickiewicz university          Poland      20.0   \n",
       "\n",
       "      international  research  citations  income  total_score  num_students  \\\n",
       "2003           71.0      28.4       73.8    43.7          NaN       17422.0   \n",
       "2056           65.4      32.8       62.1    61.6          NaN       16099.0   \n",
       "1908           76.8      50.7       79.8    68.3         57.7       23895.0   \n",
       "2105           72.2      18.9       67.2    31.3          NaN        9252.0   \n",
       "2404           25.7      11.0       15.3    28.7          NaN       40633.0   \n",
       "\n",
       "      student_staff_ratio international_students female_male_ratio  year  \n",
       "2003                 15.9                    15%           48 : 52  2016  \n",
       "2056                 24.2                    17%           32 : 68  2016  \n",
       "1908                 13.6                    14%           54 : 46  2016  \n",
       "2105                 19.2                    18%           48 : 52  2016  \n",
       "2404                 15.6                     1%           71 : 29  2016  "
      ]
     },
     "execution_count": 23,
     "metadata": {},
     "output_type": "execute_result"
    }
   ],
   "source": [
    "times_most_recent.head()"
   ]
  },
  {
   "cell_type": "markdown",
   "metadata": {},
   "source": [
    "Vengono considerati i dati relativi all'anno meno recente per ogni università del dataset 'times'."
   ]
  },
  {
   "cell_type": "code",
   "execution_count": 24,
   "metadata": {},
   "outputs": [],
   "source": [
    "times_least_recent=times.loc[times.groupby('university_name')['year'].idxmin()]"
   ]
  },
  {
   "cell_type": "code",
   "execution_count": 25,
   "metadata": {},
   "outputs": [
    {
     "data": {
      "text/html": [
       "<div>\n",
       "<style scoped>\n",
       "    .dataframe tbody tr th:only-of-type {\n",
       "        vertical-align: middle;\n",
       "    }\n",
       "\n",
       "    .dataframe tbody tr th {\n",
       "        vertical-align: top;\n",
       "    }\n",
       "\n",
       "    .dataframe thead th {\n",
       "        text-align: right;\n",
       "    }\n",
       "</style>\n",
       "<table border=\"1\" class=\"dataframe\">\n",
       "  <thead>\n",
       "    <tr style=\"text-align: right;\">\n",
       "      <th></th>\n",
       "      <th>world_rank</th>\n",
       "      <th>university_name</th>\n",
       "      <th>country</th>\n",
       "      <th>teaching</th>\n",
       "      <th>international</th>\n",
       "      <th>research</th>\n",
       "      <th>citations</th>\n",
       "      <th>income</th>\n",
       "      <th>total_score</th>\n",
       "      <th>num_students</th>\n",
       "      <th>student_staff_ratio</th>\n",
       "      <th>international_students</th>\n",
       "      <th>female_male_ratio</th>\n",
       "      <th>year</th>\n",
       "    </tr>\n",
       "  </thead>\n",
       "  <tbody>\n",
       "    <tr>\n",
       "      <th>501</th>\n",
       "      <td>301-350</td>\n",
       "      <td>aalborg university</td>\n",
       "      <td>Denmark</td>\n",
       "      <td>19.0</td>\n",
       "      <td>75.3</td>\n",
       "      <td>20.0</td>\n",
       "      <td>27.1</td>\n",
       "      <td>36.4</td>\n",
       "      <td>NaN</td>\n",
       "      <td>17422.0</td>\n",
       "      <td>15.9</td>\n",
       "      <td>15%</td>\n",
       "      <td>48 : 52</td>\n",
       "      <td>2012</td>\n",
       "    </tr>\n",
       "    <tr>\n",
       "      <th>502</th>\n",
       "      <td>301-350</td>\n",
       "      <td>aalto university</td>\n",
       "      <td>Finland</td>\n",
       "      <td>26.2</td>\n",
       "      <td>49.0</td>\n",
       "      <td>22.2</td>\n",
       "      <td>37.5</td>\n",
       "      <td>61.9</td>\n",
       "      <td>NaN</td>\n",
       "      <td>16099.0</td>\n",
       "      <td>24.2</td>\n",
       "      <td>17%</td>\n",
       "      <td>32 : 68</td>\n",
       "      <td>2012</td>\n",
       "    </tr>\n",
       "    <tr>\n",
       "      <th>166</th>\n",
       "      <td>167</td>\n",
       "      <td>aarhus university</td>\n",
       "      <td>Denmark</td>\n",
       "      <td>38.1</td>\n",
       "      <td>33.4</td>\n",
       "      <td>55.6</td>\n",
       "      <td>57.3</td>\n",
       "      <td>61.5</td>\n",
       "      <td>49.9</td>\n",
       "      <td>23895.0</td>\n",
       "      <td>13.6</td>\n",
       "      <td>14%</td>\n",
       "      <td>54 : 46</td>\n",
       "      <td>2011</td>\n",
       "    </tr>\n",
       "    <tr>\n",
       "      <th>476</th>\n",
       "      <td>276-300</td>\n",
       "      <td>aberystwyth university</td>\n",
       "      <td>United Kingdom</td>\n",
       "      <td>19.8</td>\n",
       "      <td>63.8</td>\n",
       "      <td>15.5</td>\n",
       "      <td>56.6</td>\n",
       "      <td>35.5</td>\n",
       "      <td>NaN</td>\n",
       "      <td>9252.0</td>\n",
       "      <td>19.2</td>\n",
       "      <td>18%</td>\n",
       "      <td>48 : 52</td>\n",
       "      <td>2012</td>\n",
       "    </tr>\n",
       "    <tr>\n",
       "      <th>2404</th>\n",
       "      <td>601-800</td>\n",
       "      <td>adam mickiewicz university</td>\n",
       "      <td>Poland</td>\n",
       "      <td>20.0</td>\n",
       "      <td>25.7</td>\n",
       "      <td>11.0</td>\n",
       "      <td>15.3</td>\n",
       "      <td>28.7</td>\n",
       "      <td>NaN</td>\n",
       "      <td>40633.0</td>\n",
       "      <td>15.6</td>\n",
       "      <td>1%</td>\n",
       "      <td>71 : 29</td>\n",
       "      <td>2016</td>\n",
       "    </tr>\n",
       "  </tbody>\n",
       "</table>\n",
       "</div>"
      ],
      "text/plain": [
       "     world_rank             university_name         country  teaching  \\\n",
       "501     301-350          aalborg university         Denmark      19.0   \n",
       "502     301-350            aalto university         Finland      26.2   \n",
       "166         167           aarhus university         Denmark      38.1   \n",
       "476     276-300      aberystwyth university  United Kingdom      19.8   \n",
       "2404    601-800  adam mickiewicz university          Poland      20.0   \n",
       "\n",
       "      international  research  citations  income  total_score  num_students  \\\n",
       "501            75.3      20.0       27.1    36.4          NaN       17422.0   \n",
       "502            49.0      22.2       37.5    61.9          NaN       16099.0   \n",
       "166            33.4      55.6       57.3    61.5         49.9       23895.0   \n",
       "476            63.8      15.5       56.6    35.5          NaN        9252.0   \n",
       "2404           25.7      11.0       15.3    28.7          NaN       40633.0   \n",
       "\n",
       "      student_staff_ratio international_students female_male_ratio  year  \n",
       "501                  15.9                    15%           48 : 52  2012  \n",
       "502                  24.2                    17%           32 : 68  2012  \n",
       "166                  13.6                    14%           54 : 46  2011  \n",
       "476                  19.2                    18%           48 : 52  2012  \n",
       "2404                 15.6                     1%           71 : 29  2016  "
      ]
     },
     "execution_count": 25,
     "metadata": {},
     "output_type": "execute_result"
    }
   ],
   "source": [
    "times_least_recent.head()"
   ]
  },
  {
   "cell_type": "markdown",
   "metadata": {
    "id": "JZS_xZ5KxcJM"
   },
   "source": [
    "## 2. For each university, compute the improvement in income between the least recent and the most recent data points"
   ]
  },
  {
   "cell_type": "code",
   "execution_count": 26,
   "metadata": {
    "id": "_mP-Fzdz0n63"
   },
   "outputs": [],
   "source": [
    "df2=pd.merge(times_least_recent[['university_name', 'income', 'year']],\n",
    "             times_most_recent[['university_name', 'income', 'year']],\n",
    "                        on='university_name', suffixes=('_least_recent', '_most_recent'))\n",
    "df2['income_diff']=df2['income_most_recent']-df2['income_least_recent']"
   ]
  },
  {
   "cell_type": "markdown",
   "metadata": {},
   "source": [
    "Vengono eliminate quelle università per cui non può essere calcolata la differenza della variabile 'income' in quanto hanno 'income_least_recent' o 'income_most_recent' nullo."
   ]
  },
  {
   "cell_type": "code",
   "execution_count": 27,
   "metadata": {},
   "outputs": [
    {
     "data": {
      "text/plain": [
       "income_least_recent    111\n",
       "income_most_recent      44\n",
       "dtype: int64"
      ]
     },
     "execution_count": 27,
     "metadata": {},
     "output_type": "execute_result"
    }
   ],
   "source": [
    "df2[['income_least_recent', 'income_most_recent']].isnull().sum()"
   ]
  },
  {
   "cell_type": "code",
   "execution_count": 28,
   "metadata": {},
   "outputs": [],
   "source": [
    "df2.dropna(subset=['income_least_recent','income_most_recent'], inplace=True)"
   ]
  },
  {
   "cell_type": "code",
   "execution_count": 29,
   "metadata": {},
   "outputs": [
    {
     "data": {
      "text/html": [
       "<div>\n",
       "<style scoped>\n",
       "    .dataframe tbody tr th:only-of-type {\n",
       "        vertical-align: middle;\n",
       "    }\n",
       "\n",
       "    .dataframe tbody tr th {\n",
       "        vertical-align: top;\n",
       "    }\n",
       "\n",
       "    .dataframe thead th {\n",
       "        text-align: right;\n",
       "    }\n",
       "</style>\n",
       "<table border=\"1\" class=\"dataframe\">\n",
       "  <thead>\n",
       "    <tr style=\"text-align: right;\">\n",
       "      <th></th>\n",
       "      <th>university_name</th>\n",
       "      <th>income_least_recent</th>\n",
       "      <th>year_least_recent</th>\n",
       "      <th>income_most_recent</th>\n",
       "      <th>year_most_recent</th>\n",
       "      <th>income_diff</th>\n",
       "    </tr>\n",
       "  </thead>\n",
       "  <tbody>\n",
       "    <tr>\n",
       "      <th>0</th>\n",
       "      <td>aalborg university</td>\n",
       "      <td>36.4</td>\n",
       "      <td>2012</td>\n",
       "      <td>43.7</td>\n",
       "      <td>2016</td>\n",
       "      <td>7.3</td>\n",
       "    </tr>\n",
       "    <tr>\n",
       "      <th>1</th>\n",
       "      <td>aalto university</td>\n",
       "      <td>61.9</td>\n",
       "      <td>2012</td>\n",
       "      <td>61.6</td>\n",
       "      <td>2016</td>\n",
       "      <td>-0.3</td>\n",
       "    </tr>\n",
       "    <tr>\n",
       "      <th>2</th>\n",
       "      <td>aarhus university</td>\n",
       "      <td>61.5</td>\n",
       "      <td>2011</td>\n",
       "      <td>68.3</td>\n",
       "      <td>2016</td>\n",
       "      <td>6.8</td>\n",
       "    </tr>\n",
       "    <tr>\n",
       "      <th>3</th>\n",
       "      <td>aberystwyth university</td>\n",
       "      <td>35.5</td>\n",
       "      <td>2012</td>\n",
       "      <td>31.3</td>\n",
       "      <td>2016</td>\n",
       "      <td>-4.2</td>\n",
       "    </tr>\n",
       "    <tr>\n",
       "      <th>4</th>\n",
       "      <td>adam mickiewicz university</td>\n",
       "      <td>28.7</td>\n",
       "      <td>2016</td>\n",
       "      <td>28.7</td>\n",
       "      <td>2016</td>\n",
       "      <td>0.0</td>\n",
       "    </tr>\n",
       "  </tbody>\n",
       "</table>\n",
       "</div>"
      ],
      "text/plain": [
       "              university_name  income_least_recent  year_least_recent  \\\n",
       "0          aalborg university                 36.4               2012   \n",
       "1            aalto university                 61.9               2012   \n",
       "2           aarhus university                 61.5               2011   \n",
       "3      aberystwyth university                 35.5               2012   \n",
       "4  adam mickiewicz university                 28.7               2016   \n",
       "\n",
       "   income_most_recent  year_most_recent  income_diff  \n",
       "0                43.7              2016          7.3  \n",
       "1                61.6              2016         -0.3  \n",
       "2                68.3              2016          6.8  \n",
       "3                31.3              2016         -4.2  \n",
       "4                28.7              2016          0.0  "
      ]
     },
     "execution_count": 29,
     "metadata": {},
     "output_type": "execute_result"
    }
   ],
   "source": [
    "df2.head()"
   ]
  },
  {
   "cell_type": "markdown",
   "metadata": {
    "id": "TZ5nm0yvqN0j"
   },
   "source": [
    "Ci sono università che sono presenti nel rank solo una volta; in questo caso la variabile 'income_diff' assume valore 0. Questo caso è però differente dal caso in cui la variabile 'income_diff' non sia effettivamente cambiata tra l'anno più recente e meno recente presente nel dataset 'times'. Per differenziare questi due casi sono state aggiunte nel dataset finale le variabiliali 'year_least_recent' e 'year_most_recent'."
   ]
  },
  {
   "cell_type": "markdown",
   "metadata": {
    "id": "bBD9IKUQxcsu"
   },
   "source": [
    "## 3. Find the university with the largest increase computed in the previous point"
   ]
  },
  {
   "cell_type": "code",
   "execution_count": 30,
   "metadata": {
    "id": "22Hs6TSyrAmt"
   },
   "outputs": [
    {
     "data": {
      "text/html": [
       "<div>\n",
       "<style scoped>\n",
       "    .dataframe tbody tr th:only-of-type {\n",
       "        vertical-align: middle;\n",
       "    }\n",
       "\n",
       "    .dataframe tbody tr th {\n",
       "        vertical-align: top;\n",
       "    }\n",
       "\n",
       "    .dataframe thead th {\n",
       "        text-align: right;\n",
       "    }\n",
       "</style>\n",
       "<table border=\"1\" class=\"dataframe\">\n",
       "  <thead>\n",
       "    <tr style=\"text-align: right;\">\n",
       "      <th></th>\n",
       "      <th>university_name</th>\n",
       "      <th>income_least_recent</th>\n",
       "      <th>year_least_recent</th>\n",
       "      <th>income_most_recent</th>\n",
       "      <th>year_most_recent</th>\n",
       "      <th>income_diff</th>\n",
       "    </tr>\n",
       "  </thead>\n",
       "  <tbody>\n",
       "    <tr>\n",
       "      <th>462</th>\n",
       "      <td>tu dresden</td>\n",
       "      <td>31.9</td>\n",
       "      <td>2012</td>\n",
       "      <td>99.7</td>\n",
       "      <td>2016</td>\n",
       "      <td>67.8</td>\n",
       "    </tr>\n",
       "  </tbody>\n",
       "</table>\n",
       "</div>"
      ],
      "text/plain": [
       "    university_name  income_least_recent  year_least_recent  \\\n",
       "462      tu dresden                 31.9               2012   \n",
       "\n",
       "     income_most_recent  year_most_recent  income_diff  \n",
       "462                99.7              2016         67.8  "
      ]
     },
     "execution_count": 30,
     "metadata": {},
     "output_type": "execute_result"
    }
   ],
   "source": [
    "df2[df2['income_diff']==df2['income_diff'].max()]"
   ]
  },
  {
   "cell_type": "markdown",
   "metadata": {},
   "source": [
    "Alternativamente si sarebbe potuto fare in questo modo (che però se ci fossero state due università con lo stesso valore massimo, ne avrebbe restituita solo una).  \n",
    "`df2.loc[df2['income_diff'].idxmax()]`"
   ]
  },
  {
   "cell_type": "markdown",
   "metadata": {
    "id": "zPsrWPMexcQ9"
   },
   "source": [
    "## 4. For each ranking, consider only the most recent data point. For each university, compute the maximum difference between the rankings (e.g. for Aarhus University the value is 122-73=49). Notice that some rankings are expressed as a range\n"
   ]
  },
  {
   "cell_type": "markdown",
   "metadata": {},
   "source": [
    "Vengono considerati i dati relativi all'anno più recente per ogni università del dataset 'shanghai' e 'cwur'."
   ]
  },
  {
   "cell_type": "code",
   "execution_count": 31,
   "metadata": {},
   "outputs": [],
   "source": [
    "shanghai_most_recent=shanghai.loc[shanghai.groupby('university_name')['year'].idxmax()]\n",
    "cwur_most_recent=cwur.loc[cwur.groupby('university_name')['year'].idxmax()]"
   ]
  },
  {
   "cell_type": "markdown",
   "metadata": {},
   "source": [
    "Nella colonna 'world_rank' del dataset 'times' alcuni valori contengono il carattere stringa '=' che precede il valore indicativo del ranking. Viene quindi eliminato  il carattere stringa '=' qualora sia presente nei dati."
   ]
  },
  {
   "cell_type": "code",
   "execution_count": 32,
   "metadata": {},
   "outputs": [],
   "source": [
    "def rank(df):\n",
    "    df['world_rank']=df['world_rank'].str.replace('=','')\n",
    "    df['world_rank_min']=df['world_rank'].str.extract(r'(^\\d+)').astype(int)\n",
    "    df['world_rank_max']=df['world_rank'].str.extract(r'(\\d+$)').astype(int)\n",
    "    df['world_rank_avg']=(df['world_rank_min']+df['world_rank_max'])/2\n",
    "    return df"
   ]
  },
  {
   "cell_type": "code",
   "execution_count": 33,
   "metadata": {},
   "outputs": [],
   "source": [
    "rank(times_most_recent);\n",
    "rank(shanghai_most_recent);"
   ]
  },
  {
   "cell_type": "code",
   "execution_count": 34,
   "metadata": {},
   "outputs": [],
   "source": [
    "cwur_most_recent['world_rank_avg']=cwur_most_recent['world_rank']"
   ]
  },
  {
   "cell_type": "code",
   "execution_count": 35,
   "metadata": {
    "id": "mzrOAl0i5lbA"
   },
   "outputs": [],
   "source": [
    "total_most_recent=pd.concat([\n",
    "                            times_most_recent, \n",
    "                            shanghai_most_recent, \n",
    "                            cwur_most_recent\n",
    "                            ])"
   ]
  },
  {
   "cell_type": "markdown",
   "metadata": {},
   "source": [
    "Essendo stato costruito a partire da diversi dataset, il dataset 'total_most_recent' presenta righe con lo stesso indice. Per questo si è deciso di resettare l'indice."
   ]
  },
  {
   "cell_type": "code",
   "execution_count": 36,
   "metadata": {},
   "outputs": [],
   "source": [
    "total_most_recent.reset_index(drop=True, inplace=True)"
   ]
  },
  {
   "cell_type": "code",
   "execution_count": 37,
   "metadata": {},
   "outputs": [],
   "source": [
    "total_min=total_most_recent.loc[total_most_recent.groupby('university_name')['world_rank_avg'].idxmin()][['university_name', 'world_rank_avg']]\n",
    "total_min.rename(columns=({'world_rank_avg':'min'}), inplace=True)\n",
    "total_max=total_most_recent.loc[total_most_recent.groupby('university_name')['world_rank_avg'].idxmax()][['university_name', 'world_rank_avg']]\n",
    "total_max.rename(columns=({'world_rank_avg':'max'}), inplace=True)"
   ]
  },
  {
   "cell_type": "code",
   "execution_count": 38,
   "metadata": {},
   "outputs": [
    {
     "data": {
      "text/html": [
       "<div>\n",
       "<style scoped>\n",
       "    .dataframe tbody tr th:only-of-type {\n",
       "        vertical-align: middle;\n",
       "    }\n",
       "\n",
       "    .dataframe tbody tr th {\n",
       "        vertical-align: top;\n",
       "    }\n",
       "\n",
       "    .dataframe thead th {\n",
       "        text-align: right;\n",
       "    }\n",
       "</style>\n",
       "<table border=\"1\" class=\"dataframe\">\n",
       "  <thead>\n",
       "    <tr style=\"text-align: right;\">\n",
       "      <th></th>\n",
       "      <th>university_name</th>\n",
       "      <th>min</th>\n",
       "      <th>max</th>\n",
       "      <th>diff</th>\n",
       "    </tr>\n",
       "  </thead>\n",
       "  <tbody>\n",
       "    <tr>\n",
       "      <th>0</th>\n",
       "      <td>aalborg university</td>\n",
       "      <td>225.5</td>\n",
       "      <td>565.0</td>\n",
       "      <td>339.5</td>\n",
       "    </tr>\n",
       "    <tr>\n",
       "      <th>1</th>\n",
       "      <td>aalto university</td>\n",
       "      <td>275.5</td>\n",
       "      <td>450.5</td>\n",
       "      <td>175.0</td>\n",
       "    </tr>\n",
       "    <tr>\n",
       "      <th>2</th>\n",
       "      <td>aarhus university</td>\n",
       "      <td>73.0</td>\n",
       "      <td>122.0</td>\n",
       "      <td>49.0</td>\n",
       "    </tr>\n",
       "    <tr>\n",
       "      <th>3</th>\n",
       "      <td>aberystwyth university</td>\n",
       "      <td>325.5</td>\n",
       "      <td>814.0</td>\n",
       "      <td>488.5</td>\n",
       "    </tr>\n",
       "    <tr>\n",
       "      <th>4</th>\n",
       "      <td>abo akademi university</td>\n",
       "      <td>735.0</td>\n",
       "      <td>735.0</td>\n",
       "      <td>0.0</td>\n",
       "    </tr>\n",
       "  </tbody>\n",
       "</table>\n",
       "</div>"
      ],
      "text/plain": [
       "          university_name    min    max   diff\n",
       "0      aalborg university  225.5  565.0  339.5\n",
       "1        aalto university  275.5  450.5  175.0\n",
       "2       aarhus university   73.0  122.0   49.0\n",
       "3  aberystwyth university  325.5  814.0  488.5\n",
       "4  abo akademi university  735.0  735.0    0.0"
      ]
     },
     "execution_count": 38,
     "metadata": {},
     "output_type": "execute_result"
    }
   ],
   "source": [
    "df4=pd.merge(total_min, total_max, on='university_name')\n",
    "df4['diff']=df4['max']-df4['min']\n",
    "df4.head()"
   ]
  },
  {
   "cell_type": "markdown",
   "metadata": {},
   "source": [
    "Si verifica che l'esempio di differenza massima tra i rank fornito dal professore sia verificato."
   ]
  },
  {
   "cell_type": "code",
   "execution_count": 39,
   "metadata": {},
   "outputs": [
    {
     "data": {
      "text/html": [
       "<div>\n",
       "<style scoped>\n",
       "    .dataframe tbody tr th:only-of-type {\n",
       "        vertical-align: middle;\n",
       "    }\n",
       "\n",
       "    .dataframe tbody tr th {\n",
       "        vertical-align: top;\n",
       "    }\n",
       "\n",
       "    .dataframe thead th {\n",
       "        text-align: right;\n",
       "    }\n",
       "</style>\n",
       "<table border=\"1\" class=\"dataframe\">\n",
       "  <thead>\n",
       "    <tr style=\"text-align: right;\">\n",
       "      <th></th>\n",
       "      <th>university_name</th>\n",
       "      <th>min</th>\n",
       "      <th>max</th>\n",
       "      <th>diff</th>\n",
       "    </tr>\n",
       "  </thead>\n",
       "  <tbody>\n",
       "    <tr>\n",
       "      <th>2</th>\n",
       "      <td>aarhus university</td>\n",
       "      <td>73.0</td>\n",
       "      <td>122.0</td>\n",
       "      <td>49.0</td>\n",
       "    </tr>\n",
       "  </tbody>\n",
       "</table>\n",
       "</div>"
      ],
      "text/plain": [
       "     university_name   min    max  diff\n",
       "2  aarhus university  73.0  122.0  49.0"
      ]
     },
     "execution_count": 39,
     "metadata": {},
     "output_type": "execute_result"
    }
   ],
   "source": [
    "df4[df4['university_name']=='aarhus university']"
   ]
  },
  {
   "cell_type": "markdown",
   "metadata": {
    "id": "s0he7HQtxb8N"
   },
   "source": [
    "## 5. Consider only the most recent data point of the times dataset. Compute the number of male and female students for each country."
   ]
  },
  {
   "cell_type": "code",
   "execution_count": 40,
   "metadata": {},
   "outputs": [
    {
     "data": {
      "text/plain": [
       "female_male_ratio    78\n",
       "num_students         21\n",
       "dtype: int64"
      ]
     },
     "execution_count": 40,
     "metadata": {},
     "output_type": "execute_result"
    }
   ],
   "source": [
    "times_most_recent[['female_male_ratio', 'num_students']].isnull().sum()"
   ]
  },
  {
   "cell_type": "code",
   "execution_count": 41,
   "metadata": {},
   "outputs": [
    {
     "data": {
      "text/plain": [
       "802"
      ]
     },
     "execution_count": 41,
     "metadata": {},
     "output_type": "execute_result"
    }
   ],
   "source": [
    "times_most_recent.shape[0]"
   ]
  },
  {
   "cell_type": "markdown",
   "metadata": {},
   "source": [
    "Vengono eliminate le righe che contengono valori mancanti nelle variabili 'female_male_ratio' o 'num_students'. Le università che presentano valori mancanti sono circa un decimo. Per tali università risulta impossibile calcolare il numero di studenti e studentesse."
   ]
  },
  {
   "cell_type": "code",
   "execution_count": 42,
   "metadata": {},
   "outputs": [],
   "source": [
    "times_most_recent.dropna(subset=['female_male_ratio', 'num_students'], inplace=True)\n",
    "times_most_recent['female_ratio'] = times_most_recent.female_male_ratio.str.extract(r'(.*):').astype(int)\n",
    "times_most_recent['male_ratio'] = times_most_recent.female_male_ratio.str.extract(r'.*:(.*)').astype(int)\n",
    "times_most_recent['ratio_float']=times_most_recent['female_ratio']/times_most_recent['male_ratio']\n",
    "times_most_recent['female']=round(times_most_recent['female_ratio']*times_most_recent['num_students']/100, 0).astype(int)\n",
    "times_most_recent['male']=round(times_most_recent['male_ratio']*times_most_recent['num_students']/100, 0).astype(int)"
   ]
  },
  {
   "cell_type": "code",
   "execution_count": 43,
   "metadata": {
    "scrolled": true
   },
   "outputs": [
    {
     "data": {
      "text/html": [
       "<div>\n",
       "<style scoped>\n",
       "    .dataframe tbody tr th:only-of-type {\n",
       "        vertical-align: middle;\n",
       "    }\n",
       "\n",
       "    .dataframe tbody tr th {\n",
       "        vertical-align: top;\n",
       "    }\n",
       "\n",
       "    .dataframe thead th {\n",
       "        text-align: right;\n",
       "    }\n",
       "</style>\n",
       "<table border=\"1\" class=\"dataframe\">\n",
       "  <thead>\n",
       "    <tr style=\"text-align: right;\">\n",
       "      <th></th>\n",
       "      <th>female</th>\n",
       "      <th>male</th>\n",
       "    </tr>\n",
       "    <tr>\n",
       "      <th>country</th>\n",
       "      <th></th>\n",
       "      <th></th>\n",
       "    </tr>\n",
       "  </thead>\n",
       "  <tbody>\n",
       "    <tr>\n",
       "      <th>Argentina</th>\n",
       "      <td>67191</td>\n",
       "      <td>41182</td>\n",
       "    </tr>\n",
       "    <tr>\n",
       "      <th>Australia</th>\n",
       "      <td>365577</td>\n",
       "      <td>299772</td>\n",
       "    </tr>\n",
       "    <tr>\n",
       "      <th>Austria</th>\n",
       "      <td>47851</td>\n",
       "      <td>39623</td>\n",
       "    </tr>\n",
       "    <tr>\n",
       "      <th>Bangladesh</th>\n",
       "      <td>21323</td>\n",
       "      <td>41393</td>\n",
       "    </tr>\n",
       "    <tr>\n",
       "      <th>Belarus</th>\n",
       "      <td>20219</td>\n",
       "      <td>9084</td>\n",
       "    </tr>\n",
       "  </tbody>\n",
       "</table>\n",
       "</div>"
      ],
      "text/plain": [
       "            female    male\n",
       "country                   \n",
       "Argentina    67191   41182\n",
       "Australia   365577  299772\n",
       "Austria      47851   39623\n",
       "Bangladesh   21323   41393\n",
       "Belarus      20219    9084"
      ]
     },
     "execution_count": 43,
     "metadata": {},
     "output_type": "execute_result"
    }
   ],
   "source": [
    "df5=times_most_recent.groupby('country').sum()[['female', 'male']]\n",
    "df5.head()"
   ]
  },
  {
   "cell_type": "markdown",
   "metadata": {
    "id": "lmFn4W7kxqwV"
   },
   "source": [
    "## 6. Find the universities where the ratio between female and male is below the average ratio (computed over all universities)  "
   ]
  },
  {
   "cell_type": "code",
   "execution_count": 44,
   "metadata": {},
   "outputs": [
    {
     "data": {
      "text/plain": [
       "count    724.000000\n",
       "mean            inf\n",
       "std             NaN\n",
       "min        0.010101\n",
       "25%        0.818182\n",
       "50%        1.083333\n",
       "75%        1.325581\n",
       "max             inf\n",
       "Name: ratio_float, dtype: float64"
      ]
     },
     "execution_count": 44,
     "metadata": {},
     "output_type": "execute_result"
    }
   ],
   "source": [
    "times_most_recent['ratio_float'].describe()"
   ]
  },
  {
   "cell_type": "code",
   "execution_count": 45,
   "metadata": {
    "scrolled": true
   },
   "outputs": [
    {
     "data": {
      "text/html": [
       "<div>\n",
       "<style scoped>\n",
       "    .dataframe tbody tr th:only-of-type {\n",
       "        vertical-align: middle;\n",
       "    }\n",
       "\n",
       "    .dataframe tbody tr th {\n",
       "        vertical-align: top;\n",
       "    }\n",
       "\n",
       "    .dataframe thead th {\n",
       "        text-align: right;\n",
       "    }\n",
       "</style>\n",
       "<table border=\"1\" class=\"dataframe\">\n",
       "  <thead>\n",
       "    <tr style=\"text-align: right;\">\n",
       "      <th></th>\n",
       "      <th>world_rank</th>\n",
       "      <th>university_name</th>\n",
       "      <th>country</th>\n",
       "      <th>teaching</th>\n",
       "      <th>international</th>\n",
       "      <th>research</th>\n",
       "      <th>citations</th>\n",
       "      <th>income</th>\n",
       "      <th>total_score</th>\n",
       "      <th>num_students</th>\n",
       "      <th>...</th>\n",
       "      <th>female_male_ratio</th>\n",
       "      <th>year</th>\n",
       "      <th>world_rank_min</th>\n",
       "      <th>world_rank_max</th>\n",
       "      <th>world_rank_avg</th>\n",
       "      <th>female_ratio</th>\n",
       "      <th>male_ratio</th>\n",
       "      <th>ratio_float</th>\n",
       "      <th>female</th>\n",
       "      <th>male</th>\n",
       "    </tr>\n",
       "  </thead>\n",
       "  <tbody>\n",
       "    <tr>\n",
       "      <th>2227</th>\n",
       "      <td>401-500</td>\n",
       "      <td>ewha womans university</td>\n",
       "      <td>South Korea</td>\n",
       "      <td>23.9</td>\n",
       "      <td>34.3</td>\n",
       "      <td>18.3</td>\n",
       "      <td>50.4</td>\n",
       "      <td>57.6</td>\n",
       "      <td>NaN</td>\n",
       "      <td>17625.0</td>\n",
       "      <td>...</td>\n",
       "      <td>100 : 0</td>\n",
       "      <td>2016</td>\n",
       "      <td>401</td>\n",
       "      <td>500</td>\n",
       "      <td>450.5</td>\n",
       "      <td>100</td>\n",
       "      <td>0</td>\n",
       "      <td>inf</td>\n",
       "      <td>17625</td>\n",
       "      <td>0</td>\n",
       "    </tr>\n",
       "  </tbody>\n",
       "</table>\n",
       "<p>1 rows × 22 columns</p>\n",
       "</div>"
      ],
      "text/plain": [
       "     world_rank         university_name      country  teaching  international  \\\n",
       "2227    401-500  ewha womans university  South Korea      23.9           34.3   \n",
       "\n",
       "      research  citations  income  total_score  num_students  ...  \\\n",
       "2227      18.3       50.4    57.6          NaN       17625.0  ...   \n",
       "\n",
       "      female_male_ratio  year world_rank_min  world_rank_max  world_rank_avg  \\\n",
       "2227            100 : 0  2016            401             500           450.5   \n",
       "\n",
       "      female_ratio  male_ratio  ratio_float  female  male  \n",
       "2227           100           0          inf   17625     0  \n",
       "\n",
       "[1 rows x 22 columns]"
      ]
     },
     "execution_count": 45,
     "metadata": {},
     "output_type": "execute_result"
    }
   ],
   "source": [
    "times_most_recent[times_most_recent['male_ratio']==0]"
   ]
  },
  {
   "cell_type": "markdown",
   "metadata": {},
   "source": [
    "C'è una università solo femminile. In questo caso la variabile 'ratio_float' assume valore infinito. Poichè la media di 'ratio_float' risulterebbe infinita, si è deciso di eliminare tale riga."
   ]
  },
  {
   "cell_type": "code",
   "execution_count": 46,
   "metadata": {},
   "outputs": [],
   "source": [
    "df6=times_most_recent\n",
    "\n",
    "df6=df6[df6['male_ratio']!=0]\n",
    "media=df6['ratio_float'].mean()\n",
    "\n",
    "df6=df6[df6['ratio_float']<media]"
   ]
  },
  {
   "cell_type": "code",
   "execution_count": 47,
   "metadata": {},
   "outputs": [
    {
     "data": {
      "text/plain": [
       "1.0831083062585027"
      ]
     },
     "execution_count": 47,
     "metadata": {},
     "output_type": "execute_result"
    }
   ],
   "source": [
    "media"
   ]
  },
  {
   "cell_type": "code",
   "execution_count": 48,
   "metadata": {},
   "outputs": [
    {
     "data": {
      "text/html": [
       "<div>\n",
       "<style scoped>\n",
       "    .dataframe tbody tr th:only-of-type {\n",
       "        vertical-align: middle;\n",
       "    }\n",
       "\n",
       "    .dataframe tbody tr th {\n",
       "        vertical-align: top;\n",
       "    }\n",
       "\n",
       "    .dataframe thead th {\n",
       "        text-align: right;\n",
       "    }\n",
       "</style>\n",
       "<table border=\"1\" class=\"dataframe\">\n",
       "  <thead>\n",
       "    <tr style=\"text-align: right;\">\n",
       "      <th></th>\n",
       "      <th>world_rank</th>\n",
       "      <th>university_name</th>\n",
       "      <th>country</th>\n",
       "      <th>teaching</th>\n",
       "      <th>international</th>\n",
       "      <th>research</th>\n",
       "      <th>citations</th>\n",
       "      <th>income</th>\n",
       "      <th>total_score</th>\n",
       "      <th>num_students</th>\n",
       "      <th>...</th>\n",
       "      <th>female_male_ratio</th>\n",
       "      <th>year</th>\n",
       "      <th>world_rank_min</th>\n",
       "      <th>world_rank_max</th>\n",
       "      <th>world_rank_avg</th>\n",
       "      <th>female_ratio</th>\n",
       "      <th>male_ratio</th>\n",
       "      <th>ratio_float</th>\n",
       "      <th>female</th>\n",
       "      <th>male</th>\n",
       "    </tr>\n",
       "  </thead>\n",
       "  <tbody>\n",
       "    <tr>\n",
       "      <th>2003</th>\n",
       "      <td>201-250</td>\n",
       "      <td>aalborg university</td>\n",
       "      <td>Denmark</td>\n",
       "      <td>25.1</td>\n",
       "      <td>71.0</td>\n",
       "      <td>28.4</td>\n",
       "      <td>73.8</td>\n",
       "      <td>43.7</td>\n",
       "      <td>NaN</td>\n",
       "      <td>17422.0</td>\n",
       "      <td>...</td>\n",
       "      <td>48 : 52</td>\n",
       "      <td>2016</td>\n",
       "      <td>201</td>\n",
       "      <td>250</td>\n",
       "      <td>225.5</td>\n",
       "      <td>48</td>\n",
       "      <td>52</td>\n",
       "      <td>0.923077</td>\n",
       "      <td>8363</td>\n",
       "      <td>9059</td>\n",
       "    </tr>\n",
       "    <tr>\n",
       "      <th>2056</th>\n",
       "      <td>251-300</td>\n",
       "      <td>aalto university</td>\n",
       "      <td>Finland</td>\n",
       "      <td>31.1</td>\n",
       "      <td>65.4</td>\n",
       "      <td>32.8</td>\n",
       "      <td>62.1</td>\n",
       "      <td>61.6</td>\n",
       "      <td>NaN</td>\n",
       "      <td>16099.0</td>\n",
       "      <td>...</td>\n",
       "      <td>32 : 68</td>\n",
       "      <td>2016</td>\n",
       "      <td>251</td>\n",
       "      <td>300</td>\n",
       "      <td>275.5</td>\n",
       "      <td>32</td>\n",
       "      <td>68</td>\n",
       "      <td>0.470588</td>\n",
       "      <td>5152</td>\n",
       "      <td>10947</td>\n",
       "    </tr>\n",
       "    <tr>\n",
       "      <th>2105</th>\n",
       "      <td>301-350</td>\n",
       "      <td>aberystwyth university</td>\n",
       "      <td>United Kingdom</td>\n",
       "      <td>21.6</td>\n",
       "      <td>72.2</td>\n",
       "      <td>18.9</td>\n",
       "      <td>67.2</td>\n",
       "      <td>31.3</td>\n",
       "      <td>NaN</td>\n",
       "      <td>9252.0</td>\n",
       "      <td>...</td>\n",
       "      <td>48 : 52</td>\n",
       "      <td>2016</td>\n",
       "      <td>301</td>\n",
       "      <td>350</td>\n",
       "      <td>325.5</td>\n",
       "      <td>48</td>\n",
       "      <td>52</td>\n",
       "      <td>0.923077</td>\n",
       "      <td>4441</td>\n",
       "      <td>4811</td>\n",
       "    </tr>\n",
       "    <tr>\n",
       "      <th>2406</th>\n",
       "      <td>601-800</td>\n",
       "      <td>ajou university</td>\n",
       "      <td>South Korea</td>\n",
       "      <td>19.5</td>\n",
       "      <td>20.0</td>\n",
       "      <td>11.9</td>\n",
       "      <td>23.9</td>\n",
       "      <td>45.7</td>\n",
       "      <td>NaN</td>\n",
       "      <td>12706.0</td>\n",
       "      <td>...</td>\n",
       "      <td>33 : 67</td>\n",
       "      <td>2016</td>\n",
       "      <td>601</td>\n",
       "      <td>800</td>\n",
       "      <td>700.5</td>\n",
       "      <td>33</td>\n",
       "      <td>67</td>\n",
       "      <td>0.492537</td>\n",
       "      <td>4193</td>\n",
       "      <td>8513</td>\n",
       "    </tr>\n",
       "    <tr>\n",
       "      <th>2408</th>\n",
       "      <td>601-800</td>\n",
       "      <td>alexandria university</td>\n",
       "      <td>Egypt</td>\n",
       "      <td>20.3</td>\n",
       "      <td>33.7</td>\n",
       "      <td>8.2</td>\n",
       "      <td>14.1</td>\n",
       "      <td>29.7</td>\n",
       "      <td>NaN</td>\n",
       "      <td>127431.0</td>\n",
       "      <td>...</td>\n",
       "      <td>46 : 54</td>\n",
       "      <td>2016</td>\n",
       "      <td>601</td>\n",
       "      <td>800</td>\n",
       "      <td>700.5</td>\n",
       "      <td>46</td>\n",
       "      <td>54</td>\n",
       "      <td>0.851852</td>\n",
       "      <td>58618</td>\n",
       "      <td>68813</td>\n",
       "    </tr>\n",
       "  </tbody>\n",
       "</table>\n",
       "<p>5 rows × 22 columns</p>\n",
       "</div>"
      ],
      "text/plain": [
       "     world_rank         university_name         country  teaching  \\\n",
       "2003    201-250      aalborg university         Denmark      25.1   \n",
       "2056    251-300        aalto university         Finland      31.1   \n",
       "2105    301-350  aberystwyth university  United Kingdom      21.6   \n",
       "2406    601-800         ajou university     South Korea      19.5   \n",
       "2408    601-800   alexandria university           Egypt      20.3   \n",
       "\n",
       "      international  research  citations  income  total_score  num_students  \\\n",
       "2003           71.0      28.4       73.8    43.7          NaN       17422.0   \n",
       "2056           65.4      32.8       62.1    61.6          NaN       16099.0   \n",
       "2105           72.2      18.9       67.2    31.3          NaN        9252.0   \n",
       "2406           20.0      11.9       23.9    45.7          NaN       12706.0   \n",
       "2408           33.7       8.2       14.1    29.7          NaN      127431.0   \n",
       "\n",
       "      ...  female_male_ratio  year world_rank_min  world_rank_max  \\\n",
       "2003  ...            48 : 52  2016            201             250   \n",
       "2056  ...            32 : 68  2016            251             300   \n",
       "2105  ...            48 : 52  2016            301             350   \n",
       "2406  ...            33 : 67  2016            601             800   \n",
       "2408  ...            46 : 54  2016            601             800   \n",
       "\n",
       "      world_rank_avg  female_ratio  male_ratio  ratio_float  female   male  \n",
       "2003           225.5            48          52     0.923077    8363   9059  \n",
       "2056           275.5            32          68     0.470588    5152  10947  \n",
       "2105           325.5            48          52     0.923077    4441   4811  \n",
       "2406           700.5            33          67     0.492537    4193   8513  \n",
       "2408           700.5            46          54     0.851852   58618  68813  \n",
       "\n",
       "[5 rows x 22 columns]"
      ]
     },
     "execution_count": 48,
     "metadata": {},
     "output_type": "execute_result"
    }
   ],
   "source": [
    "df6.head()"
   ]
  },
  {
   "cell_type": "markdown",
   "metadata": {
    "id": "FsMBHgHWxrCA"
   },
   "source": [
    "## 7. For each country, compute the fraction of the students in the country that are in one of the universities computed in the previous point (that is, the denominator of the ratio is the total number of students over all universities in the country).\n"
   ]
  },
  {
   "cell_type": "markdown",
   "metadata": {},
   "source": [
    "Ci sono stati che non sono rappresentati dalle università trovate al punto precedente. Per tali stati la frazione di studenti risulta NaN in quanto nel dataframe df6 non sono presenti. Tali valori vengono sostituiti con 0."
   ]
  },
  {
   "cell_type": "code",
   "execution_count": 49,
   "metadata": {},
   "outputs": [
    {
     "data": {
      "text/html": [
       "<div>\n",
       "<style scoped>\n",
       "    .dataframe tbody tr th:only-of-type {\n",
       "        vertical-align: middle;\n",
       "    }\n",
       "\n",
       "    .dataframe tbody tr th {\n",
       "        vertical-align: top;\n",
       "    }\n",
       "\n",
       "    .dataframe thead th {\n",
       "        text-align: right;\n",
       "    }\n",
       "</style>\n",
       "<table border=\"1\" class=\"dataframe\">\n",
       "  <thead>\n",
       "    <tr style=\"text-align: right;\">\n",
       "      <th></th>\n",
       "      <th>num_students</th>\n",
       "    </tr>\n",
       "    <tr>\n",
       "      <th>country</th>\n",
       "      <th></th>\n",
       "    </tr>\n",
       "  </thead>\n",
       "  <tbody>\n",
       "    <tr>\n",
       "      <th>Argentina</th>\n",
       "      <td>0.000000</td>\n",
       "    </tr>\n",
       "    <tr>\n",
       "      <th>Australia</th>\n",
       "      <td>21.978691</td>\n",
       "    </tr>\n",
       "    <tr>\n",
       "      <th>Austria</th>\n",
       "      <td>39.570615</td>\n",
       "    </tr>\n",
       "    <tr>\n",
       "      <th>Bangladesh</th>\n",
       "      <td>100.000000</td>\n",
       "    </tr>\n",
       "    <tr>\n",
       "      <th>Belarus</th>\n",
       "      <td>0.000000</td>\n",
       "    </tr>\n",
       "  </tbody>\n",
       "</table>\n",
       "</div>"
      ],
      "text/plain": [
       "            num_students\n",
       "country                 \n",
       "Argentina       0.000000\n",
       "Australia      21.978691\n",
       "Austria        39.570615\n",
       "Bangladesh    100.000000\n",
       "Belarus         0.000000"
      ]
     },
     "execution_count": 49,
     "metadata": {},
     "output_type": "execute_result"
    }
   ],
   "source": [
    "df7=(df6.groupby('country').sum()['num_students']/times_most_recent.groupby('country').sum()['num_students'])*100\n",
    "df7=df7.to_frame()\n",
    "df7['num_students'] = df7['num_students'].where(df7['num_students']>0, 0)\n",
    "df7.head()"
   ]
  },
  {
   "cell_type": "markdown",
   "metadata": {
    "id": "rS5re98txrO8"
   },
   "source": [
    "## 8. Read the file educational_attainment_supplementary_data.csv, discarding any row with missing country_name or series_name"
   ]
  },
  {
   "cell_type": "code",
   "execution_count": 50,
   "metadata": {},
   "outputs": [],
   "source": [
    "eas = pd.read_csv(\"educational_attainment_supplementary_data.csv\")"
   ]
  },
  {
   "cell_type": "code",
   "execution_count": 51,
   "metadata": {},
   "outputs": [
    {
     "data": {
      "text/html": [
       "<div>\n",
       "<style scoped>\n",
       "    .dataframe tbody tr th:only-of-type {\n",
       "        vertical-align: middle;\n",
       "    }\n",
       "\n",
       "    .dataframe tbody tr th {\n",
       "        vertical-align: top;\n",
       "    }\n",
       "\n",
       "    .dataframe thead th {\n",
       "        text-align: right;\n",
       "    }\n",
       "</style>\n",
       "<table border=\"1\" class=\"dataframe\">\n",
       "  <thead>\n",
       "    <tr style=\"text-align: right;\">\n",
       "      <th></th>\n",
       "      <th>country_name</th>\n",
       "      <th>series_name</th>\n",
       "      <th>1985</th>\n",
       "      <th>1986</th>\n",
       "      <th>1987</th>\n",
       "      <th>1990</th>\n",
       "      <th>1991</th>\n",
       "      <th>1992</th>\n",
       "      <th>1993</th>\n",
       "      <th>1995</th>\n",
       "      <th>...</th>\n",
       "      <th>2005</th>\n",
       "      <th>2006</th>\n",
       "      <th>2007</th>\n",
       "      <th>2008</th>\n",
       "      <th>2009</th>\n",
       "      <th>2010</th>\n",
       "      <th>2011</th>\n",
       "      <th>2012</th>\n",
       "      <th>2013</th>\n",
       "      <th>2015</th>\n",
       "    </tr>\n",
       "  </thead>\n",
       "  <tbody>\n",
       "    <tr>\n",
       "      <th>0</th>\n",
       "      <td>Afghanistan</td>\n",
       "      <td>Barro-Lee: Average years of primary schooling,...</td>\n",
       "      <td>0.33</td>\n",
       "      <td>NaN</td>\n",
       "      <td>NaN</td>\n",
       "      <td>0.44</td>\n",
       "      <td>NaN</td>\n",
       "      <td>NaN</td>\n",
       "      <td>NaN</td>\n",
       "      <td>0.57</td>\n",
       "      <td>...</td>\n",
       "      <td>0.86</td>\n",
       "      <td>NaN</td>\n",
       "      <td>NaN</td>\n",
       "      <td>NaN</td>\n",
       "      <td>NaN</td>\n",
       "      <td>1.27</td>\n",
       "      <td>NaN</td>\n",
       "      <td>NaN</td>\n",
       "      <td>NaN</td>\n",
       "      <td>NaN</td>\n",
       "    </tr>\n",
       "    <tr>\n",
       "      <th>1</th>\n",
       "      <td>Afghanistan</td>\n",
       "      <td>Barro-Lee: Average years of primary schooling,...</td>\n",
       "      <td>1.03</td>\n",
       "      <td>NaN</td>\n",
       "      <td>NaN</td>\n",
       "      <td>1.26</td>\n",
       "      <td>NaN</td>\n",
       "      <td>NaN</td>\n",
       "      <td>NaN</td>\n",
       "      <td>1.54</td>\n",
       "      <td>...</td>\n",
       "      <td>2.18</td>\n",
       "      <td>NaN</td>\n",
       "      <td>NaN</td>\n",
       "      <td>NaN</td>\n",
       "      <td>NaN</td>\n",
       "      <td>2.64</td>\n",
       "      <td>NaN</td>\n",
       "      <td>NaN</td>\n",
       "      <td>NaN</td>\n",
       "      <td>NaN</td>\n",
       "    </tr>\n",
       "    <tr>\n",
       "      <th>2</th>\n",
       "      <td>Afghanistan</td>\n",
       "      <td>Barro-Lee: Average years of primary schooling,...</td>\n",
       "      <td>0.83</td>\n",
       "      <td>NaN</td>\n",
       "      <td>NaN</td>\n",
       "      <td>0.95</td>\n",
       "      <td>NaN</td>\n",
       "      <td>NaN</td>\n",
       "      <td>NaN</td>\n",
       "      <td>1.26</td>\n",
       "      <td>...</td>\n",
       "      <td>1.01</td>\n",
       "      <td>NaN</td>\n",
       "      <td>NaN</td>\n",
       "      <td>NaN</td>\n",
       "      <td>NaN</td>\n",
       "      <td>2.45</td>\n",
       "      <td>NaN</td>\n",
       "      <td>NaN</td>\n",
       "      <td>NaN</td>\n",
       "      <td>NaN</td>\n",
       "    </tr>\n",
       "    <tr>\n",
       "      <th>3</th>\n",
       "      <td>Afghanistan</td>\n",
       "      <td>Barro-Lee: Average years of primary schooling,...</td>\n",
       "      <td>2.34</td>\n",
       "      <td>NaN</td>\n",
       "      <td>NaN</td>\n",
       "      <td>2.22</td>\n",
       "      <td>NaN</td>\n",
       "      <td>NaN</td>\n",
       "      <td>NaN</td>\n",
       "      <td>2.37</td>\n",
       "      <td>...</td>\n",
       "      <td>2.26</td>\n",
       "      <td>NaN</td>\n",
       "      <td>NaN</td>\n",
       "      <td>NaN</td>\n",
       "      <td>NaN</td>\n",
       "      <td>3.55</td>\n",
       "      <td>NaN</td>\n",
       "      <td>NaN</td>\n",
       "      <td>NaN</td>\n",
       "      <td>NaN</td>\n",
       "    </tr>\n",
       "    <tr>\n",
       "      <th>4</th>\n",
       "      <td>Afghanistan</td>\n",
       "      <td>Barro-Lee: Average years of primary schooling,...</td>\n",
       "      <td>0.54</td>\n",
       "      <td>NaN</td>\n",
       "      <td>NaN</td>\n",
       "      <td>0.92</td>\n",
       "      <td>NaN</td>\n",
       "      <td>NaN</td>\n",
       "      <td>NaN</td>\n",
       "      <td>0.94</td>\n",
       "      <td>...</td>\n",
       "      <td>2.00</td>\n",
       "      <td>NaN</td>\n",
       "      <td>NaN</td>\n",
       "      <td>NaN</td>\n",
       "      <td>NaN</td>\n",
       "      <td>1.29</td>\n",
       "      <td>NaN</td>\n",
       "      <td>NaN</td>\n",
       "      <td>NaN</td>\n",
       "      <td>NaN</td>\n",
       "    </tr>\n",
       "    <tr>\n",
       "      <th>...</th>\n",
       "      <td>...</td>\n",
       "      <td>...</td>\n",
       "      <td>...</td>\n",
       "      <td>...</td>\n",
       "      <td>...</td>\n",
       "      <td>...</td>\n",
       "      <td>...</td>\n",
       "      <td>...</td>\n",
       "      <td>...</td>\n",
       "      <td>...</td>\n",
       "      <td>...</td>\n",
       "      <td>...</td>\n",
       "      <td>...</td>\n",
       "      <td>...</td>\n",
       "      <td>...</td>\n",
       "      <td>...</td>\n",
       "      <td>...</td>\n",
       "      <td>...</td>\n",
       "      <td>...</td>\n",
       "      <td>...</td>\n",
       "      <td>...</td>\n",
       "    </tr>\n",
       "    <tr>\n",
       "      <th>79050</th>\n",
       "      <td>NaN</td>\n",
       "      <td>NaN</td>\n",
       "      <td>NaN</td>\n",
       "      <td>NaN</td>\n",
       "      <td>NaN</td>\n",
       "      <td>NaN</td>\n",
       "      <td>NaN</td>\n",
       "      <td>NaN</td>\n",
       "      <td>NaN</td>\n",
       "      <td>NaN</td>\n",
       "      <td>...</td>\n",
       "      <td>NaN</td>\n",
       "      <td>NaN</td>\n",
       "      <td>NaN</td>\n",
       "      <td>NaN</td>\n",
       "      <td>NaN</td>\n",
       "      <td>NaN</td>\n",
       "      <td>NaN</td>\n",
       "      <td>NaN</td>\n",
       "      <td>NaN</td>\n",
       "      <td>NaN</td>\n",
       "    </tr>\n",
       "    <tr>\n",
       "      <th>79051</th>\n",
       "      <td>NaN</td>\n",
       "      <td>NaN</td>\n",
       "      <td>NaN</td>\n",
       "      <td>NaN</td>\n",
       "      <td>NaN</td>\n",
       "      <td>NaN</td>\n",
       "      <td>NaN</td>\n",
       "      <td>NaN</td>\n",
       "      <td>NaN</td>\n",
       "      <td>NaN</td>\n",
       "      <td>...</td>\n",
       "      <td>NaN</td>\n",
       "      <td>NaN</td>\n",
       "      <td>NaN</td>\n",
       "      <td>NaN</td>\n",
       "      <td>NaN</td>\n",
       "      <td>NaN</td>\n",
       "      <td>NaN</td>\n",
       "      <td>NaN</td>\n",
       "      <td>NaN</td>\n",
       "      <td>NaN</td>\n",
       "    </tr>\n",
       "    <tr>\n",
       "      <th>79052</th>\n",
       "      <td>NaN</td>\n",
       "      <td>NaN</td>\n",
       "      <td>NaN</td>\n",
       "      <td>NaN</td>\n",
       "      <td>NaN</td>\n",
       "      <td>NaN</td>\n",
       "      <td>NaN</td>\n",
       "      <td>NaN</td>\n",
       "      <td>NaN</td>\n",
       "      <td>NaN</td>\n",
       "      <td>...</td>\n",
       "      <td>NaN</td>\n",
       "      <td>NaN</td>\n",
       "      <td>NaN</td>\n",
       "      <td>NaN</td>\n",
       "      <td>NaN</td>\n",
       "      <td>NaN</td>\n",
       "      <td>NaN</td>\n",
       "      <td>NaN</td>\n",
       "      <td>NaN</td>\n",
       "      <td>NaN</td>\n",
       "    </tr>\n",
       "    <tr>\n",
       "      <th>79053</th>\n",
       "      <td>Data from database: Education Statistics: Educ...</td>\n",
       "      <td>NaN</td>\n",
       "      <td>NaN</td>\n",
       "      <td>NaN</td>\n",
       "      <td>NaN</td>\n",
       "      <td>NaN</td>\n",
       "      <td>NaN</td>\n",
       "      <td>NaN</td>\n",
       "      <td>NaN</td>\n",
       "      <td>NaN</td>\n",
       "      <td>...</td>\n",
       "      <td>NaN</td>\n",
       "      <td>NaN</td>\n",
       "      <td>NaN</td>\n",
       "      <td>NaN</td>\n",
       "      <td>NaN</td>\n",
       "      <td>NaN</td>\n",
       "      <td>NaN</td>\n",
       "      <td>NaN</td>\n",
       "      <td>NaN</td>\n",
       "      <td>NaN</td>\n",
       "    </tr>\n",
       "    <tr>\n",
       "      <th>79054</th>\n",
       "      <td>Last Updated: 10/20/2015</td>\n",
       "      <td>NaN</td>\n",
       "      <td>NaN</td>\n",
       "      <td>NaN</td>\n",
       "      <td>NaN</td>\n",
       "      <td>NaN</td>\n",
       "      <td>NaN</td>\n",
       "      <td>NaN</td>\n",
       "      <td>NaN</td>\n",
       "      <td>NaN</td>\n",
       "      <td>...</td>\n",
       "      <td>NaN</td>\n",
       "      <td>NaN</td>\n",
       "      <td>NaN</td>\n",
       "      <td>NaN</td>\n",
       "      <td>NaN</td>\n",
       "      <td>NaN</td>\n",
       "      <td>NaN</td>\n",
       "      <td>NaN</td>\n",
       "      <td>NaN</td>\n",
       "      <td>NaN</td>\n",
       "    </tr>\n",
       "  </tbody>\n",
       "</table>\n",
       "<p>79055 rows × 29 columns</p>\n",
       "</div>"
      ],
      "text/plain": [
       "                                            country_name  \\\n",
       "0                                            Afghanistan   \n",
       "1                                            Afghanistan   \n",
       "2                                            Afghanistan   \n",
       "3                                            Afghanistan   \n",
       "4                                            Afghanistan   \n",
       "...                                                  ...   \n",
       "79050                                                NaN   \n",
       "79051                                                NaN   \n",
       "79052                                                NaN   \n",
       "79053  Data from database: Education Statistics: Educ...   \n",
       "79054                           Last Updated: 10/20/2015   \n",
       "\n",
       "                                             series_name  1985  1986  1987  \\\n",
       "0      Barro-Lee: Average years of primary schooling,...  0.33   NaN   NaN   \n",
       "1      Barro-Lee: Average years of primary schooling,...  1.03   NaN   NaN   \n",
       "2      Barro-Lee: Average years of primary schooling,...  0.83   NaN   NaN   \n",
       "3      Barro-Lee: Average years of primary schooling,...  2.34   NaN   NaN   \n",
       "4      Barro-Lee: Average years of primary schooling,...  0.54   NaN   NaN   \n",
       "...                                                  ...   ...   ...   ...   \n",
       "79050                                                NaN   NaN   NaN   NaN   \n",
       "79051                                                NaN   NaN   NaN   NaN   \n",
       "79052                                                NaN   NaN   NaN   NaN   \n",
       "79053                                                NaN   NaN   NaN   NaN   \n",
       "79054                                                NaN   NaN   NaN   NaN   \n",
       "\n",
       "       1990  1991  1992  1993  1995  ...  2005  2006  2007  2008  2009  2010  \\\n",
       "0      0.44   NaN   NaN   NaN  0.57  ...  0.86   NaN   NaN   NaN   NaN  1.27   \n",
       "1      1.26   NaN   NaN   NaN  1.54  ...  2.18   NaN   NaN   NaN   NaN  2.64   \n",
       "2      0.95   NaN   NaN   NaN  1.26  ...  1.01   NaN   NaN   NaN   NaN  2.45   \n",
       "3      2.22   NaN   NaN   NaN  2.37  ...  2.26   NaN   NaN   NaN   NaN  3.55   \n",
       "4      0.92   NaN   NaN   NaN  0.94  ...  2.00   NaN   NaN   NaN   NaN  1.29   \n",
       "...     ...   ...   ...   ...   ...  ...   ...   ...   ...   ...   ...   ...   \n",
       "79050   NaN   NaN   NaN   NaN   NaN  ...   NaN   NaN   NaN   NaN   NaN   NaN   \n",
       "79051   NaN   NaN   NaN   NaN   NaN  ...   NaN   NaN   NaN   NaN   NaN   NaN   \n",
       "79052   NaN   NaN   NaN   NaN   NaN  ...   NaN   NaN   NaN   NaN   NaN   NaN   \n",
       "79053   NaN   NaN   NaN   NaN   NaN  ...   NaN   NaN   NaN   NaN   NaN   NaN   \n",
       "79054   NaN   NaN   NaN   NaN   NaN  ...   NaN   NaN   NaN   NaN   NaN   NaN   \n",
       "\n",
       "       2011  2012  2013  2015  \n",
       "0       NaN   NaN   NaN   NaN  \n",
       "1       NaN   NaN   NaN   NaN  \n",
       "2       NaN   NaN   NaN   NaN  \n",
       "3       NaN   NaN   NaN   NaN  \n",
       "4       NaN   NaN   NaN   NaN  \n",
       "...     ...   ...   ...   ...  \n",
       "79050   NaN   NaN   NaN   NaN  \n",
       "79051   NaN   NaN   NaN   NaN  \n",
       "79052   NaN   NaN   NaN   NaN  \n",
       "79053   NaN   NaN   NaN   NaN  \n",
       "79054   NaN   NaN   NaN   NaN  \n",
       "\n",
       "[79055 rows x 29 columns]"
      ]
     },
     "execution_count": 51,
     "metadata": {},
     "output_type": "execute_result"
    }
   ],
   "source": [
    "eas"
   ]
  },
  {
   "cell_type": "code",
   "execution_count": 52,
   "metadata": {},
   "outputs": [
    {
     "data": {
      "text/plain": [
       "country_name    3\n",
       "series_name     5\n",
       "dtype: int64"
      ]
     },
     "execution_count": 52,
     "metadata": {},
     "output_type": "execute_result"
    }
   ],
   "source": [
    "eas[['country_name', 'series_name']].isnull().sum()"
   ]
  },
  {
   "cell_type": "markdown",
   "metadata": {},
   "source": [
    "Ci sono 3 righe che contengono valori mancanti per la variabile 'country_name' e 5 per la variabile 'series_name'. Tali righe vengono rimosse."
   ]
  },
  {
   "cell_type": "code",
   "execution_count": 53,
   "metadata": {},
   "outputs": [],
   "source": [
    "eas.dropna(subset=['country_name','series_name'], inplace=True)"
   ]
  },
  {
   "cell_type": "code",
   "execution_count": 54,
   "metadata": {},
   "outputs": [
    {
     "data": {
      "text/html": [
       "<div>\n",
       "<style scoped>\n",
       "    .dataframe tbody tr th:only-of-type {\n",
       "        vertical-align: middle;\n",
       "    }\n",
       "\n",
       "    .dataframe tbody tr th {\n",
       "        vertical-align: top;\n",
       "    }\n",
       "\n",
       "    .dataframe thead th {\n",
       "        text-align: right;\n",
       "    }\n",
       "</style>\n",
       "<table border=\"1\" class=\"dataframe\">\n",
       "  <thead>\n",
       "    <tr style=\"text-align: right;\">\n",
       "      <th></th>\n",
       "      <th>country_name</th>\n",
       "      <th>series_name</th>\n",
       "      <th>1985</th>\n",
       "      <th>1986</th>\n",
       "      <th>1987</th>\n",
       "      <th>1990</th>\n",
       "      <th>1991</th>\n",
       "      <th>1992</th>\n",
       "      <th>1993</th>\n",
       "      <th>1995</th>\n",
       "      <th>...</th>\n",
       "      <th>2005</th>\n",
       "      <th>2006</th>\n",
       "      <th>2007</th>\n",
       "      <th>2008</th>\n",
       "      <th>2009</th>\n",
       "      <th>2010</th>\n",
       "      <th>2011</th>\n",
       "      <th>2012</th>\n",
       "      <th>2013</th>\n",
       "      <th>2015</th>\n",
       "    </tr>\n",
       "  </thead>\n",
       "  <tbody>\n",
       "    <tr>\n",
       "      <th>0</th>\n",
       "      <td>Afghanistan</td>\n",
       "      <td>Barro-Lee: Average years of primary schooling,...</td>\n",
       "      <td>0.33</td>\n",
       "      <td>NaN</td>\n",
       "      <td>NaN</td>\n",
       "      <td>0.44</td>\n",
       "      <td>NaN</td>\n",
       "      <td>NaN</td>\n",
       "      <td>NaN</td>\n",
       "      <td>0.57</td>\n",
       "      <td>...</td>\n",
       "      <td>0.86</td>\n",
       "      <td>NaN</td>\n",
       "      <td>NaN</td>\n",
       "      <td>NaN</td>\n",
       "      <td>NaN</td>\n",
       "      <td>1.27</td>\n",
       "      <td>NaN</td>\n",
       "      <td>NaN</td>\n",
       "      <td>NaN</td>\n",
       "      <td>NaN</td>\n",
       "    </tr>\n",
       "    <tr>\n",
       "      <th>1</th>\n",
       "      <td>Afghanistan</td>\n",
       "      <td>Barro-Lee: Average years of primary schooling,...</td>\n",
       "      <td>1.03</td>\n",
       "      <td>NaN</td>\n",
       "      <td>NaN</td>\n",
       "      <td>1.26</td>\n",
       "      <td>NaN</td>\n",
       "      <td>NaN</td>\n",
       "      <td>NaN</td>\n",
       "      <td>1.54</td>\n",
       "      <td>...</td>\n",
       "      <td>2.18</td>\n",
       "      <td>NaN</td>\n",
       "      <td>NaN</td>\n",
       "      <td>NaN</td>\n",
       "      <td>NaN</td>\n",
       "      <td>2.64</td>\n",
       "      <td>NaN</td>\n",
       "      <td>NaN</td>\n",
       "      <td>NaN</td>\n",
       "      <td>NaN</td>\n",
       "    </tr>\n",
       "    <tr>\n",
       "      <th>2</th>\n",
       "      <td>Afghanistan</td>\n",
       "      <td>Barro-Lee: Average years of primary schooling,...</td>\n",
       "      <td>0.83</td>\n",
       "      <td>NaN</td>\n",
       "      <td>NaN</td>\n",
       "      <td>0.95</td>\n",
       "      <td>NaN</td>\n",
       "      <td>NaN</td>\n",
       "      <td>NaN</td>\n",
       "      <td>1.26</td>\n",
       "      <td>...</td>\n",
       "      <td>1.01</td>\n",
       "      <td>NaN</td>\n",
       "      <td>NaN</td>\n",
       "      <td>NaN</td>\n",
       "      <td>NaN</td>\n",
       "      <td>2.45</td>\n",
       "      <td>NaN</td>\n",
       "      <td>NaN</td>\n",
       "      <td>NaN</td>\n",
       "      <td>NaN</td>\n",
       "    </tr>\n",
       "    <tr>\n",
       "      <th>3</th>\n",
       "      <td>Afghanistan</td>\n",
       "      <td>Barro-Lee: Average years of primary schooling,...</td>\n",
       "      <td>2.34</td>\n",
       "      <td>NaN</td>\n",
       "      <td>NaN</td>\n",
       "      <td>2.22</td>\n",
       "      <td>NaN</td>\n",
       "      <td>NaN</td>\n",
       "      <td>NaN</td>\n",
       "      <td>2.37</td>\n",
       "      <td>...</td>\n",
       "      <td>2.26</td>\n",
       "      <td>NaN</td>\n",
       "      <td>NaN</td>\n",
       "      <td>NaN</td>\n",
       "      <td>NaN</td>\n",
       "      <td>3.55</td>\n",
       "      <td>NaN</td>\n",
       "      <td>NaN</td>\n",
       "      <td>NaN</td>\n",
       "      <td>NaN</td>\n",
       "    </tr>\n",
       "    <tr>\n",
       "      <th>4</th>\n",
       "      <td>Afghanistan</td>\n",
       "      <td>Barro-Lee: Average years of primary schooling,...</td>\n",
       "      <td>0.54</td>\n",
       "      <td>NaN</td>\n",
       "      <td>NaN</td>\n",
       "      <td>0.92</td>\n",
       "      <td>NaN</td>\n",
       "      <td>NaN</td>\n",
       "      <td>NaN</td>\n",
       "      <td>0.94</td>\n",
       "      <td>...</td>\n",
       "      <td>2.00</td>\n",
       "      <td>NaN</td>\n",
       "      <td>NaN</td>\n",
       "      <td>NaN</td>\n",
       "      <td>NaN</td>\n",
       "      <td>1.29</td>\n",
       "      <td>NaN</td>\n",
       "      <td>NaN</td>\n",
       "      <td>NaN</td>\n",
       "      <td>NaN</td>\n",
       "    </tr>\n",
       "    <tr>\n",
       "      <th>...</th>\n",
       "      <td>...</td>\n",
       "      <td>...</td>\n",
       "      <td>...</td>\n",
       "      <td>...</td>\n",
       "      <td>...</td>\n",
       "      <td>...</td>\n",
       "      <td>...</td>\n",
       "      <td>...</td>\n",
       "      <td>...</td>\n",
       "      <td>...</td>\n",
       "      <td>...</td>\n",
       "      <td>...</td>\n",
       "      <td>...</td>\n",
       "      <td>...</td>\n",
       "      <td>...</td>\n",
       "      <td>...</td>\n",
       "      <td>...</td>\n",
       "      <td>...</td>\n",
       "      <td>...</td>\n",
       "      <td>...</td>\n",
       "      <td>...</td>\n",
       "    </tr>\n",
       "    <tr>\n",
       "      <th>79045</th>\n",
       "      <td>Zimbabwe</td>\n",
       "      <td>UIS: Percentage of population age 25+ with som...</td>\n",
       "      <td>NaN</td>\n",
       "      <td>NaN</td>\n",
       "      <td>NaN</td>\n",
       "      <td>NaN</td>\n",
       "      <td>NaN</td>\n",
       "      <td>NaN</td>\n",
       "      <td>NaN</td>\n",
       "      <td>NaN</td>\n",
       "      <td>...</td>\n",
       "      <td>NaN</td>\n",
       "      <td>NaN</td>\n",
       "      <td>NaN</td>\n",
       "      <td>NaN</td>\n",
       "      <td>NaN</td>\n",
       "      <td>NaN</td>\n",
       "      <td>NaN</td>\n",
       "      <td>13.84323</td>\n",
       "      <td>NaN</td>\n",
       "      <td>NaN</td>\n",
       "    </tr>\n",
       "    <tr>\n",
       "      <th>79046</th>\n",
       "      <td>Zimbabwe</td>\n",
       "      <td>UIS: Percentage of population age 25+ with som...</td>\n",
       "      <td>NaN</td>\n",
       "      <td>NaN</td>\n",
       "      <td>NaN</td>\n",
       "      <td>NaN</td>\n",
       "      <td>NaN</td>\n",
       "      <td>NaN</td>\n",
       "      <td>NaN</td>\n",
       "      <td>NaN</td>\n",
       "      <td>...</td>\n",
       "      <td>NaN</td>\n",
       "      <td>NaN</td>\n",
       "      <td>NaN</td>\n",
       "      <td>NaN</td>\n",
       "      <td>NaN</td>\n",
       "      <td>NaN</td>\n",
       "      <td>NaN</td>\n",
       "      <td>16.68491</td>\n",
       "      <td>NaN</td>\n",
       "      <td>NaN</td>\n",
       "    </tr>\n",
       "    <tr>\n",
       "      <th>79047</th>\n",
       "      <td>Zimbabwe</td>\n",
       "      <td>UIS: Percentage of population age 25+ with unk...</td>\n",
       "      <td>NaN</td>\n",
       "      <td>NaN</td>\n",
       "      <td>NaN</td>\n",
       "      <td>NaN</td>\n",
       "      <td>NaN</td>\n",
       "      <td>NaN</td>\n",
       "      <td>NaN</td>\n",
       "      <td>NaN</td>\n",
       "      <td>...</td>\n",
       "      <td>NaN</td>\n",
       "      <td>NaN</td>\n",
       "      <td>NaN</td>\n",
       "      <td>NaN</td>\n",
       "      <td>NaN</td>\n",
       "      <td>NaN</td>\n",
       "      <td>NaN</td>\n",
       "      <td>11.99412</td>\n",
       "      <td>NaN</td>\n",
       "      <td>NaN</td>\n",
       "    </tr>\n",
       "    <tr>\n",
       "      <th>79048</th>\n",
       "      <td>Zimbabwe</td>\n",
       "      <td>UIS: Percentage of population age 25+ with unk...</td>\n",
       "      <td>NaN</td>\n",
       "      <td>NaN</td>\n",
       "      <td>NaN</td>\n",
       "      <td>NaN</td>\n",
       "      <td>NaN</td>\n",
       "      <td>NaN</td>\n",
       "      <td>NaN</td>\n",
       "      <td>NaN</td>\n",
       "      <td>...</td>\n",
       "      <td>NaN</td>\n",
       "      <td>NaN</td>\n",
       "      <td>NaN</td>\n",
       "      <td>NaN</td>\n",
       "      <td>NaN</td>\n",
       "      <td>NaN</td>\n",
       "      <td>NaN</td>\n",
       "      <td>5.77150</td>\n",
       "      <td>NaN</td>\n",
       "      <td>NaN</td>\n",
       "    </tr>\n",
       "    <tr>\n",
       "      <th>79049</th>\n",
       "      <td>Zimbabwe</td>\n",
       "      <td>UIS: Percentage of population age 25+ with unk...</td>\n",
       "      <td>NaN</td>\n",
       "      <td>NaN</td>\n",
       "      <td>NaN</td>\n",
       "      <td>NaN</td>\n",
       "      <td>NaN</td>\n",
       "      <td>NaN</td>\n",
       "      <td>NaN</td>\n",
       "      <td>NaN</td>\n",
       "      <td>...</td>\n",
       "      <td>NaN</td>\n",
       "      <td>NaN</td>\n",
       "      <td>NaN</td>\n",
       "      <td>NaN</td>\n",
       "      <td>NaN</td>\n",
       "      <td>NaN</td>\n",
       "      <td>NaN</td>\n",
       "      <td>9.14588</td>\n",
       "      <td>NaN</td>\n",
       "      <td>NaN</td>\n",
       "    </tr>\n",
       "  </tbody>\n",
       "</table>\n",
       "<p>79050 rows × 29 columns</p>\n",
       "</div>"
      ],
      "text/plain": [
       "      country_name                                        series_name  1985  \\\n",
       "0      Afghanistan  Barro-Lee: Average years of primary schooling,...  0.33   \n",
       "1      Afghanistan  Barro-Lee: Average years of primary schooling,...  1.03   \n",
       "2      Afghanistan  Barro-Lee: Average years of primary schooling,...  0.83   \n",
       "3      Afghanistan  Barro-Lee: Average years of primary schooling,...  2.34   \n",
       "4      Afghanistan  Barro-Lee: Average years of primary schooling,...  0.54   \n",
       "...            ...                                                ...   ...   \n",
       "79045     Zimbabwe  UIS: Percentage of population age 25+ with som...   NaN   \n",
       "79046     Zimbabwe  UIS: Percentage of population age 25+ with som...   NaN   \n",
       "79047     Zimbabwe  UIS: Percentage of population age 25+ with unk...   NaN   \n",
       "79048     Zimbabwe  UIS: Percentage of population age 25+ with unk...   NaN   \n",
       "79049     Zimbabwe  UIS: Percentage of population age 25+ with unk...   NaN   \n",
       "\n",
       "       1986  1987  1990  1991  1992  1993  1995  ...  2005  2006  2007  2008  \\\n",
       "0       NaN   NaN  0.44   NaN   NaN   NaN  0.57  ...  0.86   NaN   NaN   NaN   \n",
       "1       NaN   NaN  1.26   NaN   NaN   NaN  1.54  ...  2.18   NaN   NaN   NaN   \n",
       "2       NaN   NaN  0.95   NaN   NaN   NaN  1.26  ...  1.01   NaN   NaN   NaN   \n",
       "3       NaN   NaN  2.22   NaN   NaN   NaN  2.37  ...  2.26   NaN   NaN   NaN   \n",
       "4       NaN   NaN  0.92   NaN   NaN   NaN  0.94  ...  2.00   NaN   NaN   NaN   \n",
       "...     ...   ...   ...   ...   ...   ...   ...  ...   ...   ...   ...   ...   \n",
       "79045   NaN   NaN   NaN   NaN   NaN   NaN   NaN  ...   NaN   NaN   NaN   NaN   \n",
       "79046   NaN   NaN   NaN   NaN   NaN   NaN   NaN  ...   NaN   NaN   NaN   NaN   \n",
       "79047   NaN   NaN   NaN   NaN   NaN   NaN   NaN  ...   NaN   NaN   NaN   NaN   \n",
       "79048   NaN   NaN   NaN   NaN   NaN   NaN   NaN  ...   NaN   NaN   NaN   NaN   \n",
       "79049   NaN   NaN   NaN   NaN   NaN   NaN   NaN  ...   NaN   NaN   NaN   NaN   \n",
       "\n",
       "       2009  2010  2011      2012  2013  2015  \n",
       "0       NaN  1.27   NaN       NaN   NaN   NaN  \n",
       "1       NaN  2.64   NaN       NaN   NaN   NaN  \n",
       "2       NaN  2.45   NaN       NaN   NaN   NaN  \n",
       "3       NaN  3.55   NaN       NaN   NaN   NaN  \n",
       "4       NaN  1.29   NaN       NaN   NaN   NaN  \n",
       "...     ...   ...   ...       ...   ...   ...  \n",
       "79045   NaN   NaN   NaN  13.84323   NaN   NaN  \n",
       "79046   NaN   NaN   NaN  16.68491   NaN   NaN  \n",
       "79047   NaN   NaN   NaN  11.99412   NaN   NaN  \n",
       "79048   NaN   NaN   NaN   5.77150   NaN   NaN  \n",
       "79049   NaN   NaN   NaN   9.14588   NaN   NaN  \n",
       "\n",
       "[79050 rows x 29 columns]"
      ]
     },
     "execution_count": 54,
     "metadata": {},
     "output_type": "execute_result"
    }
   ],
   "source": [
    "eas"
   ]
  },
  {
   "cell_type": "markdown",
   "metadata": {
    "id": "YlPrZIa1xq5O"
   },
   "source": [
    "## 9. From attainment build a dataframe with the same data, but with 4 columns: country_name, series_name, year, value"
   ]
  },
  {
   "cell_type": "code",
   "execution_count": 55,
   "metadata": {},
   "outputs": [
    {
     "data": {
      "text/plain": [
       "(79050, 29)"
      ]
     },
     "execution_count": 55,
     "metadata": {},
     "output_type": "execute_result"
    }
   ],
   "source": [
    "eas.shape"
   ]
  },
  {
   "cell_type": "markdown",
   "metadata": {},
   "source": [
    "La funzione melt di Pandas trasforma un DataFrame 'dal formato largo a lungo', facendo un'operazione di unpivot. Da un DataFrame di dimensioni (79050, 29) si è arrivati a uno con dimensioni (2134350, 4)."
   ]
  },
  {
   "cell_type": "code",
   "execution_count": 56,
   "metadata": {},
   "outputs": [],
   "source": [
    "df9=pd.melt(eas, id_vars=['country_name', 'series_name'], var_name ='year', value_name='value')"
   ]
  },
  {
   "cell_type": "code",
   "execution_count": 57,
   "metadata": {},
   "outputs": [
    {
     "data": {
      "text/html": [
       "<div>\n",
       "<style scoped>\n",
       "    .dataframe tbody tr th:only-of-type {\n",
       "        vertical-align: middle;\n",
       "    }\n",
       "\n",
       "    .dataframe tbody tr th {\n",
       "        vertical-align: top;\n",
       "    }\n",
       "\n",
       "    .dataframe thead th {\n",
       "        text-align: right;\n",
       "    }\n",
       "</style>\n",
       "<table border=\"1\" class=\"dataframe\">\n",
       "  <thead>\n",
       "    <tr style=\"text-align: right;\">\n",
       "      <th></th>\n",
       "      <th>country_name</th>\n",
       "      <th>series_name</th>\n",
       "      <th>year</th>\n",
       "      <th>value</th>\n",
       "    </tr>\n",
       "  </thead>\n",
       "  <tbody>\n",
       "    <tr>\n",
       "      <th>0</th>\n",
       "      <td>Afghanistan</td>\n",
       "      <td>Barro-Lee: Average years of primary schooling,...</td>\n",
       "      <td>1985</td>\n",
       "      <td>0.33</td>\n",
       "    </tr>\n",
       "    <tr>\n",
       "      <th>1</th>\n",
       "      <td>Afghanistan</td>\n",
       "      <td>Barro-Lee: Average years of primary schooling,...</td>\n",
       "      <td>1985</td>\n",
       "      <td>1.03</td>\n",
       "    </tr>\n",
       "    <tr>\n",
       "      <th>2</th>\n",
       "      <td>Afghanistan</td>\n",
       "      <td>Barro-Lee: Average years of primary schooling,...</td>\n",
       "      <td>1985</td>\n",
       "      <td>0.83</td>\n",
       "    </tr>\n",
       "    <tr>\n",
       "      <th>3</th>\n",
       "      <td>Afghanistan</td>\n",
       "      <td>Barro-Lee: Average years of primary schooling,...</td>\n",
       "      <td>1985</td>\n",
       "      <td>2.34</td>\n",
       "    </tr>\n",
       "    <tr>\n",
       "      <th>4</th>\n",
       "      <td>Afghanistan</td>\n",
       "      <td>Barro-Lee: Average years of primary schooling,...</td>\n",
       "      <td>1985</td>\n",
       "      <td>0.54</td>\n",
       "    </tr>\n",
       "  </tbody>\n",
       "</table>\n",
       "</div>"
      ],
      "text/plain": [
       "  country_name                                        series_name  year  value\n",
       "0  Afghanistan  Barro-Lee: Average years of primary schooling,...  1985   0.33\n",
       "1  Afghanistan  Barro-Lee: Average years of primary schooling,...  1985   1.03\n",
       "2  Afghanistan  Barro-Lee: Average years of primary schooling,...  1985   0.83\n",
       "3  Afghanistan  Barro-Lee: Average years of primary schooling,...  1985   2.34\n",
       "4  Afghanistan  Barro-Lee: Average years of primary schooling,...  1985   0.54"
      ]
     },
     "execution_count": 57,
     "metadata": {},
     "output_type": "execute_result"
    }
   ],
   "source": [
    "df9.head()"
   ]
  },
  {
   "cell_type": "code",
   "execution_count": 58,
   "metadata": {},
   "outputs": [
    {
     "data": {
      "text/plain": [
       "(2134350, 4)"
      ]
     },
     "execution_count": 58,
     "metadata": {},
     "output_type": "execute_result"
    }
   ],
   "source": [
    "df9.shape"
   ]
  },
  {
   "cell_type": "markdown",
   "metadata": {
    "id": "jSedtILNxqk9"
   },
   "source": [
    "## 10. For each university, find the number of rankings in which they appear (it suffices to appear in one year for each ranking)."
   ]
  },
  {
   "cell_type": "code",
   "execution_count": 59,
   "metadata": {},
   "outputs": [],
   "source": [
    "array10=np.concatenate([\n",
    "                        shanghai['university_name'].unique(),\n",
    "                        cwur['university_name'].unique(),\n",
    "                        times['university_name'].unique()\n",
    "                        ])\n",
    "\n",
    "uni,counts=np.unique(array10, return_counts=True)"
   ]
  },
  {
   "cell_type": "code",
   "execution_count": 60,
   "metadata": {},
   "outputs": [],
   "source": [
    "#to visualize\n",
    "df10=pd.DataFrame({\"university\": uni, \"number of rankings\": counts})"
   ]
  },
  {
   "cell_type": "code",
   "execution_count": 61,
   "metadata": {},
   "outputs": [
    {
     "data": {
      "text/html": [
       "<div>\n",
       "<style scoped>\n",
       "    .dataframe tbody tr th:only-of-type {\n",
       "        vertical-align: middle;\n",
       "    }\n",
       "\n",
       "    .dataframe tbody tr th {\n",
       "        vertical-align: top;\n",
       "    }\n",
       "\n",
       "    .dataframe thead th {\n",
       "        text-align: right;\n",
       "    }\n",
       "</style>\n",
       "<table border=\"1\" class=\"dataframe\">\n",
       "  <thead>\n",
       "    <tr style=\"text-align: right;\">\n",
       "      <th></th>\n",
       "      <th>university</th>\n",
       "      <th>number of rankings</th>\n",
       "    </tr>\n",
       "  </thead>\n",
       "  <tbody>\n",
       "    <tr>\n",
       "      <th>0</th>\n",
       "      <td>aalborg university</td>\n",
       "      <td>3</td>\n",
       "    </tr>\n",
       "    <tr>\n",
       "      <th>1</th>\n",
       "      <td>aalto university</td>\n",
       "      <td>3</td>\n",
       "    </tr>\n",
       "    <tr>\n",
       "      <th>2</th>\n",
       "      <td>aarhus university</td>\n",
       "      <td>3</td>\n",
       "    </tr>\n",
       "    <tr>\n",
       "      <th>3</th>\n",
       "      <td>aberystwyth university</td>\n",
       "      <td>2</td>\n",
       "    </tr>\n",
       "    <tr>\n",
       "      <th>4</th>\n",
       "      <td>abo akademi university</td>\n",
       "      <td>1</td>\n",
       "    </tr>\n",
       "  </tbody>\n",
       "</table>\n",
       "</div>"
      ],
      "text/plain": [
       "               university  number of rankings\n",
       "0      aalborg university                   3\n",
       "1        aalto university                   3\n",
       "2       aarhus university                   3\n",
       "3  aberystwyth university                   2\n",
       "4  abo akademi university                   1"
      ]
     },
     "execution_count": 61,
     "metadata": {},
     "output_type": "execute_result"
    }
   ],
   "source": [
    "df10.head()"
   ]
  },
  {
   "cell_type": "markdown",
   "metadata": {
    "id": "fv0WLMTNxyKv"
   },
   "source": [
    "## 11. In the times ranking, compute the number of times each university appears"
   ]
  },
  {
   "cell_type": "code",
   "execution_count": 62,
   "metadata": {},
   "outputs": [],
   "source": [
    "df11= times.groupby('university_name')['year'].count().reset_index(name = 'count')"
   ]
  },
  {
   "cell_type": "code",
   "execution_count": 63,
   "metadata": {},
   "outputs": [
    {
     "data": {
      "text/html": [
       "<div>\n",
       "<style scoped>\n",
       "    .dataframe tbody tr th:only-of-type {\n",
       "        vertical-align: middle;\n",
       "    }\n",
       "\n",
       "    .dataframe tbody tr th {\n",
       "        vertical-align: top;\n",
       "    }\n",
       "\n",
       "    .dataframe thead th {\n",
       "        text-align: right;\n",
       "    }\n",
       "</style>\n",
       "<table border=\"1\" class=\"dataframe\">\n",
       "  <thead>\n",
       "    <tr style=\"text-align: right;\">\n",
       "      <th></th>\n",
       "      <th>university_name</th>\n",
       "      <th>count</th>\n",
       "    </tr>\n",
       "  </thead>\n",
       "  <tbody>\n",
       "    <tr>\n",
       "      <th>0</th>\n",
       "      <td>aalborg university</td>\n",
       "      <td>5</td>\n",
       "    </tr>\n",
       "    <tr>\n",
       "      <th>1</th>\n",
       "      <td>aalto university</td>\n",
       "      <td>5</td>\n",
       "    </tr>\n",
       "    <tr>\n",
       "      <th>2</th>\n",
       "      <td>aarhus university</td>\n",
       "      <td>6</td>\n",
       "    </tr>\n",
       "    <tr>\n",
       "      <th>3</th>\n",
       "      <td>aberystwyth university</td>\n",
       "      <td>5</td>\n",
       "    </tr>\n",
       "    <tr>\n",
       "      <th>4</th>\n",
       "      <td>adam mickiewicz university</td>\n",
       "      <td>1</td>\n",
       "    </tr>\n",
       "  </tbody>\n",
       "</table>\n",
       "</div>"
      ],
      "text/plain": [
       "              university_name  count\n",
       "0          aalborg university      5\n",
       "1            aalto university      5\n",
       "2           aarhus university      6\n",
       "3      aberystwyth university      5\n",
       "4  adam mickiewicz university      1"
      ]
     },
     "execution_count": 63,
     "metadata": {},
     "output_type": "execute_result"
    }
   ],
   "source": [
    "df11.head()"
   ]
  },
  {
   "cell_type": "markdown",
   "metadata": {
    "id": "dVpW9G3tx1-x"
   },
   "source": [
    "## 12. Find the universities that appear at most twice in the times ranking.\n",
    "\n",
    "\n",
    "Come da richiesta, vengono estratte dal dataset del punto precedente, df11, le università che si ripetono al massimo due volte."
   ]
  },
  {
   "cell_type": "code",
   "execution_count": 64,
   "metadata": {},
   "outputs": [],
   "source": [
    "df12=df11[df11['count']<=2]"
   ]
  },
  {
   "cell_type": "code",
   "execution_count": 65,
   "metadata": {},
   "outputs": [
    {
     "data": {
      "text/html": [
       "<div>\n",
       "<style scoped>\n",
       "    .dataframe tbody tr th:only-of-type {\n",
       "        vertical-align: middle;\n",
       "    }\n",
       "\n",
       "    .dataframe tbody tr th {\n",
       "        vertical-align: top;\n",
       "    }\n",
       "\n",
       "    .dataframe thead th {\n",
       "        text-align: right;\n",
       "    }\n",
       "</style>\n",
       "<table border=\"1\" class=\"dataframe\">\n",
       "  <thead>\n",
       "    <tr style=\"text-align: right;\">\n",
       "      <th></th>\n",
       "      <th>university_name</th>\n",
       "      <th>count</th>\n",
       "    </tr>\n",
       "  </thead>\n",
       "  <tbody>\n",
       "    <tr>\n",
       "      <th>4</th>\n",
       "      <td>adam mickiewicz university</td>\n",
       "      <td>1</td>\n",
       "    </tr>\n",
       "    <tr>\n",
       "      <th>5</th>\n",
       "      <td>agh university of science and technology</td>\n",
       "      <td>1</td>\n",
       "    </tr>\n",
       "    <tr>\n",
       "      <th>6</th>\n",
       "      <td>aix marseille university</td>\n",
       "      <td>1</td>\n",
       "    </tr>\n",
       "    <tr>\n",
       "      <th>7</th>\n",
       "      <td>ajou university</td>\n",
       "      <td>1</td>\n",
       "    </tr>\n",
       "    <tr>\n",
       "      <th>9</th>\n",
       "      <td>alexandru ioan cuza university</td>\n",
       "      <td>1</td>\n",
       "    </tr>\n",
       "  </tbody>\n",
       "</table>\n",
       "</div>"
      ],
      "text/plain": [
       "                            university_name  count\n",
       "4                adam mickiewicz university      1\n",
       "5  agh university of science and technology      1\n",
       "6                  aix marseille university      1\n",
       "7                           ajou university      1\n",
       "9            alexandru ioan cuza university      1"
      ]
     },
     "execution_count": 65,
     "metadata": {},
     "output_type": "execute_result"
    }
   ],
   "source": [
    "df12.head()"
   ]
  },
  {
   "cell_type": "markdown",
   "metadata": {
    "id": "-1Ecgocgx10K"
   },
   "source": [
    "## 13. The universities that, in any year, have the same position in all three rankings (they must have the same position in a year)."
   ]
  },
  {
   "cell_type": "code",
   "execution_count": 66,
   "metadata": {},
   "outputs": [],
   "source": [
    "a=pd.merge(\n",
    "            rank(shanghai)[['university_name', 'year', 'world_rank', 'world_rank_min', 'world_rank_max', 'world_rank_avg']],\n",
    "            rank(times)[['university_name', 'year', 'world_rank', 'world_rank_min', 'world_rank_max', 'world_rank_avg']],\n",
    "                 on=['university_name','year'], suffixes=('_shanghai', '_times')\n",
    "            )\n",
    "\n",
    "b=pd.merge(\n",
    "            a,\n",
    "            cwur[['university_name', 'year', 'world_rank']],\n",
    "                 on=['university_name','year']\n",
    "            )\n",
    "b.rename(columns={'world_rank':'world_rank_cwur'}, inplace=True)"
   ]
  },
  {
   "cell_type": "code",
   "execution_count": 67,
   "metadata": {},
   "outputs": [],
   "source": [
    "b['same_position']=((b['world_rank_cwur']==b['world_rank_avg_shanghai']) & (b['world_rank_avg_shanghai']==b['world_rank_avg_times']))"
   ]
  },
  {
   "cell_type": "code",
   "execution_count": 68,
   "metadata": {},
   "outputs": [
    {
     "data": {
      "text/html": [
       "<div>\n",
       "<style scoped>\n",
       "    .dataframe tbody tr th:only-of-type {\n",
       "        vertical-align: middle;\n",
       "    }\n",
       "\n",
       "    .dataframe tbody tr th {\n",
       "        vertical-align: top;\n",
       "    }\n",
       "\n",
       "    .dataframe thead th {\n",
       "        text-align: right;\n",
       "    }\n",
       "</style>\n",
       "<table border=\"1\" class=\"dataframe\">\n",
       "  <thead>\n",
       "    <tr style=\"text-align: right;\">\n",
       "      <th></th>\n",
       "      <th>university_name</th>\n",
       "      <th>year</th>\n",
       "      <th>world_rank_shanghai</th>\n",
       "      <th>world_rank_times</th>\n",
       "      <th>world_rank_cwur</th>\n",
       "    </tr>\n",
       "  </thead>\n",
       "  <tbody>\n",
       "    <tr>\n",
       "      <th>75</th>\n",
       "      <td>stanford university</td>\n",
       "      <td>2013</td>\n",
       "      <td>2</td>\n",
       "      <td>2</td>\n",
       "      <td>2</td>\n",
       "    </tr>\n",
       "  </tbody>\n",
       "</table>\n",
       "</div>"
      ],
      "text/plain": [
       "        university_name  year world_rank_shanghai world_rank_times  \\\n",
       "75  stanford university  2013                   2                2   \n",
       "\n",
       "    world_rank_cwur  \n",
       "75                2  "
      ]
     },
     "execution_count": 68,
     "metadata": {},
     "output_type": "execute_result"
    }
   ],
   "source": [
    "b[b['same_position']==True][['university_name', 'year', 'world_rank_shanghai', 'world_rank_times', 'world_rank_cwur']]"
   ]
  },
  {
   "cell_type": "markdown",
   "metadata": {},
   "source": [
    "Vengono considerati nel risultato anche i rank espressi tramite range e quindi quelle posizioni che potenzialmente potrebbero essere uguali (cioè quelle posizioni in cui l'intersezione dei range da un insieme non vuoto)."
   ]
  },
  {
   "cell_type": "code",
   "execution_count": 69,
   "metadata": {},
   "outputs": [],
   "source": [
    "b['same_position_range']=(\n",
    "                    (b['world_rank_cwur']<=b['world_rank_max_shanghai']) & (b['world_rank_cwur']>=b['world_rank_min_shanghai']) & \\\n",
    "                    (b['world_rank_cwur']<=b['world_rank_max_times']) & (b['world_rank_cwur']>=b['world_rank_min_times']) & \\\n",
    "                    (\n",
    "                        ((b['world_rank_max_shanghai']>=b['world_rank_min_times']) & (b['world_rank_max_shanghai']<=b['world_rank_max_times'])) | \\\n",
    "                        ((b['world_rank_min_shanghai']>=b['world_rank_min_times']) & (b['world_rank_min_shanghai']<=b['world_rank_max_times'])) | \\\n",
    "                        ((b['world_rank_max_times']>=b['world_rank_min_shanghai']) & (b['world_rank_max_times']<=b['world_rank_max_shanghai'])) | \\\n",
    "                        ((b['world_rank_min_times']>=b['world_rank_min_shanghai']) & (b['world_rank_min_times']<=b['world_rank_max_shanghai']))\n",
    "                     )\n",
    "                    )"
   ]
  },
  {
   "cell_type": "code",
   "execution_count": 70,
   "metadata": {},
   "outputs": [
    {
     "data": {
      "text/html": [
       "<div>\n",
       "<style scoped>\n",
       "    .dataframe tbody tr th:only-of-type {\n",
       "        vertical-align: middle;\n",
       "    }\n",
       "\n",
       "    .dataframe tbody tr th {\n",
       "        vertical-align: top;\n",
       "    }\n",
       "\n",
       "    .dataframe thead th {\n",
       "        text-align: right;\n",
       "    }\n",
       "</style>\n",
       "<table border=\"1\" class=\"dataframe\">\n",
       "  <thead>\n",
       "    <tr style=\"text-align: right;\">\n",
       "      <th></th>\n",
       "      <th>university_name</th>\n",
       "      <th>year</th>\n",
       "      <th>world_rank_shanghai</th>\n",
       "      <th>world_rank_times</th>\n",
       "      <th>world_rank_cwur</th>\n",
       "    </tr>\n",
       "  </thead>\n",
       "  <tbody>\n",
       "    <tr>\n",
       "      <th>75</th>\n",
       "      <td>stanford university</td>\n",
       "      <td>2013</td>\n",
       "      <td>2</td>\n",
       "      <td>2</td>\n",
       "      <td>2</td>\n",
       "    </tr>\n",
       "    <tr>\n",
       "      <th>250</th>\n",
       "      <td>university of southampton</td>\n",
       "      <td>2014</td>\n",
       "      <td>101-150</td>\n",
       "      <td>146</td>\n",
       "      <td>146</td>\n",
       "    </tr>\n",
       "    <tr>\n",
       "      <th>404</th>\n",
       "      <td>linkoping university</td>\n",
       "      <td>2014</td>\n",
       "      <td>301-400</td>\n",
       "      <td>301-350</td>\n",
       "      <td>302</td>\n",
       "    </tr>\n",
       "    <tr>\n",
       "      <th>411</th>\n",
       "      <td>temple university</td>\n",
       "      <td>2014</td>\n",
       "      <td>301-400</td>\n",
       "      <td>351-400</td>\n",
       "      <td>390</td>\n",
       "    </tr>\n",
       "    <tr>\n",
       "      <th>429</th>\n",
       "      <td>university of vermont</td>\n",
       "      <td>2014</td>\n",
       "      <td>301-400</td>\n",
       "      <td>301-350</td>\n",
       "      <td>320</td>\n",
       "    </tr>\n",
       "    <tr>\n",
       "      <th>647</th>\n",
       "      <td>autonomous university of barcelona</td>\n",
       "      <td>2015</td>\n",
       "      <td>201-300</td>\n",
       "      <td>226-250</td>\n",
       "      <td>241</td>\n",
       "    </tr>\n",
       "    <tr>\n",
       "      <th>661</th>\n",
       "      <td>laval university</td>\n",
       "      <td>2015</td>\n",
       "      <td>201-300</td>\n",
       "      <td>226-250</td>\n",
       "      <td>229</td>\n",
       "    </tr>\n",
       "    <tr>\n",
       "      <th>664</th>\n",
       "      <td>medical university of vienna</td>\n",
       "      <td>2015</td>\n",
       "      <td>201-300</td>\n",
       "      <td>251-275</td>\n",
       "      <td>265</td>\n",
       "    </tr>\n",
       "    <tr>\n",
       "      <th>667</th>\n",
       "      <td>newcastle university</td>\n",
       "      <td>2015</td>\n",
       "      <td>201-300</td>\n",
       "      <td>201-225</td>\n",
       "      <td>212</td>\n",
       "    </tr>\n",
       "    <tr>\n",
       "      <th>709</th>\n",
       "      <td>university of waterloo</td>\n",
       "      <td>2015</td>\n",
       "      <td>201-300</td>\n",
       "      <td>251-275</td>\n",
       "      <td>269</td>\n",
       "    </tr>\n",
       "    <tr>\n",
       "      <th>728</th>\n",
       "      <td>linkoping university</td>\n",
       "      <td>2015</td>\n",
       "      <td>301-400</td>\n",
       "      <td>351-400</td>\n",
       "      <td>355</td>\n",
       "    </tr>\n",
       "    <tr>\n",
       "      <th>750</th>\n",
       "      <td>university of turku</td>\n",
       "      <td>2015</td>\n",
       "      <td>301-400</td>\n",
       "      <td>351-400</td>\n",
       "      <td>383</td>\n",
       "    </tr>\n",
       "  </tbody>\n",
       "</table>\n",
       "</div>"
      ],
      "text/plain": [
       "                        university_name  year world_rank_shanghai  \\\n",
       "75                  stanford university  2013                   2   \n",
       "250           university of southampton  2014             101-150   \n",
       "404                linkoping university  2014             301-400   \n",
       "411                   temple university  2014             301-400   \n",
       "429               university of vermont  2014             301-400   \n",
       "647  autonomous university of barcelona  2015             201-300   \n",
       "661                    laval university  2015             201-300   \n",
       "664        medical university of vienna  2015             201-300   \n",
       "667                newcastle university  2015             201-300   \n",
       "709              university of waterloo  2015             201-300   \n",
       "728                linkoping university  2015             301-400   \n",
       "750                 university of turku  2015             301-400   \n",
       "\n",
       "    world_rank_times  world_rank_cwur  \n",
       "75                 2                2  \n",
       "250              146              146  \n",
       "404          301-350              302  \n",
       "411          351-400              390  \n",
       "429          301-350              320  \n",
       "647          226-250              241  \n",
       "661          226-250              229  \n",
       "664          251-275              265  \n",
       "667          201-225              212  \n",
       "709          251-275              269  \n",
       "728          351-400              355  \n",
       "750          351-400              383  "
      ]
     },
     "execution_count": 70,
     "metadata": {},
     "output_type": "execute_result"
    }
   ],
   "source": [
    "b[b['same_position_range']==True][['university_name', 'year', 'world_rank_shanghai', 'world_rank_times', 'world_rank_cwur']]"
   ]
  }
 ],
 "metadata": {
  "accelerator": "GPU",
  "colab": {
   "authorship_tag": "ABX9TyO5xOimlQAr8iy/Vz4fnP0R",
   "name": "progetto FoCS.ipynb",
   "provenance": []
  },
  "kernelspec": {
   "display_name": "Python 3",
   "language": "python",
   "name": "python3"
  },
  "language_info": {
   "codemirror_mode": {
    "name": "ipython",
    "version": 3
   },
   "file_extension": ".py",
   "mimetype": "text/x-python",
   "name": "python",
   "nbconvert_exporter": "python",
   "pygments_lexer": "ipython3",
   "version": "3.7.1"
  }
 },
 "nbformat": 4,
 "nbformat_minor": 1
}
